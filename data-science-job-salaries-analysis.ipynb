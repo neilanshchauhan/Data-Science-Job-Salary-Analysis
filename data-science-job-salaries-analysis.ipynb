{
 "cells": [
  {
   "cell_type": "code",
   "execution_count": 1,
   "id": "d4356925",
   "metadata": {
    "_cell_guid": "b1076dfc-b9ad-4769-8c92-a6c4dae69d19",
    "_uuid": "8f2839f25d086af736a60e9eeb907d3b93b6e0e5",
    "execution": {
     "iopub.execute_input": "2025-01-11T12:59:11.557968Z",
     "iopub.status.busy": "2025-01-11T12:59:11.557609Z",
     "iopub.status.idle": "2025-01-11T12:59:13.493480Z",
     "shell.execute_reply": "2025-01-11T12:59:13.492413Z"
    },
    "papermill": {
     "duration": 1.949666,
     "end_time": "2025-01-11T12:59:13.495663",
     "exception": false,
     "start_time": "2025-01-11T12:59:11.545997",
     "status": "completed"
    },
    "tags": []
   },
   "outputs": [],
   "source": [
    "import numpy as np\n",
    "import pandas as pd\n",
    "import matplotlib.pyplot as plt\n",
    "import seaborn as sns"
   ]
  },
  {
   "cell_type": "code",
   "execution_count": 2,
   "id": "b1c5a5c4",
   "metadata": {
    "execution": {
     "iopub.execute_input": "2025-01-11T12:59:13.515648Z",
     "iopub.status.busy": "2025-01-11T12:59:13.515148Z",
     "iopub.status.idle": "2025-01-11T12:59:13.963725Z",
     "shell.execute_reply": "2025-01-11T12:59:13.962459Z"
    },
    "papermill": {
     "duration": 0.460233,
     "end_time": "2025-01-11T12:59:13.965506",
     "exception": false,
     "start_time": "2025-01-11T12:59:13.505273",
     "status": "completed"
    },
    "tags": []
   },
   "outputs": [
    {
     "data": {
      "text/html": [
       "<div>\n",
       "<style scoped>\n",
       "    .dataframe tbody tr th:only-of-type {\n",
       "        vertical-align: middle;\n",
       "    }\n",
       "\n",
       "    .dataframe tbody tr th {\n",
       "        vertical-align: top;\n",
       "    }\n",
       "\n",
       "    .dataframe thead th {\n",
       "        text-align: right;\n",
       "    }\n",
       "</style>\n",
       "<table border=\"1\" class=\"dataframe\">\n",
       "  <thead>\n",
       "    <tr style=\"text-align: right;\">\n",
       "      <th></th>\n",
       "      <th>Unnamed: 0</th>\n",
       "      <th>work_year</th>\n",
       "      <th>experience_level</th>\n",
       "      <th>employment_type</th>\n",
       "      <th>job_title</th>\n",
       "      <th>salary</th>\n",
       "      <th>salary_currency</th>\n",
       "      <th>salary_in_usd</th>\n",
       "      <th>employee_residence</th>\n",
       "      <th>remote_ratio</th>\n",
       "      <th>company_location</th>\n",
       "      <th>company_size</th>\n",
       "    </tr>\n",
       "  </thead>\n",
       "  <tbody>\n",
       "    <tr>\n",
       "      <th>0</th>\n",
       "      <td>0</td>\n",
       "      <td>2020</td>\n",
       "      <td>MI</td>\n",
       "      <td>FT</td>\n",
       "      <td>Data Scientist</td>\n",
       "      <td>70000</td>\n",
       "      <td>EUR</td>\n",
       "      <td>79833</td>\n",
       "      <td>DE</td>\n",
       "      <td>0</td>\n",
       "      <td>DE</td>\n",
       "      <td>L</td>\n",
       "    </tr>\n",
       "    <tr>\n",
       "      <th>1</th>\n",
       "      <td>1</td>\n",
       "      <td>2020</td>\n",
       "      <td>SE</td>\n",
       "      <td>FT</td>\n",
       "      <td>Machine Learning Scientist</td>\n",
       "      <td>260000</td>\n",
       "      <td>USD</td>\n",
       "      <td>260000</td>\n",
       "      <td>JP</td>\n",
       "      <td>0</td>\n",
       "      <td>JP</td>\n",
       "      <td>S</td>\n",
       "    </tr>\n",
       "    <tr>\n",
       "      <th>2</th>\n",
       "      <td>2</td>\n",
       "      <td>2020</td>\n",
       "      <td>SE</td>\n",
       "      <td>FT</td>\n",
       "      <td>Big Data Engineer</td>\n",
       "      <td>85000</td>\n",
       "      <td>GBP</td>\n",
       "      <td>109024</td>\n",
       "      <td>GB</td>\n",
       "      <td>50</td>\n",
       "      <td>GB</td>\n",
       "      <td>M</td>\n",
       "    </tr>\n",
       "    <tr>\n",
       "      <th>3</th>\n",
       "      <td>3</td>\n",
       "      <td>2020</td>\n",
       "      <td>MI</td>\n",
       "      <td>FT</td>\n",
       "      <td>Product Data Analyst</td>\n",
       "      <td>20000</td>\n",
       "      <td>USD</td>\n",
       "      <td>20000</td>\n",
       "      <td>HN</td>\n",
       "      <td>0</td>\n",
       "      <td>HN</td>\n",
       "      <td>S</td>\n",
       "    </tr>\n",
       "    <tr>\n",
       "      <th>4</th>\n",
       "      <td>4</td>\n",
       "      <td>2020</td>\n",
       "      <td>SE</td>\n",
       "      <td>FT</td>\n",
       "      <td>Machine Learning Engineer</td>\n",
       "      <td>150000</td>\n",
       "      <td>USD</td>\n",
       "      <td>150000</td>\n",
       "      <td>US</td>\n",
       "      <td>50</td>\n",
       "      <td>US</td>\n",
       "      <td>L</td>\n",
       "    </tr>\n",
       "  </tbody>\n",
       "</table>\n",
       "</div>"
      ],
      "text/plain": [
       "   Unnamed: 0  work_year experience_level employment_type  \\\n",
       "0           0       2020               MI              FT   \n",
       "1           1       2020               SE              FT   \n",
       "2           2       2020               SE              FT   \n",
       "3           3       2020               MI              FT   \n",
       "4           4       2020               SE              FT   \n",
       "\n",
       "                    job_title  salary salary_currency  salary_in_usd  \\\n",
       "0              Data Scientist   70000             EUR          79833   \n",
       "1  Machine Learning Scientist  260000             USD         260000   \n",
       "2           Big Data Engineer   85000             GBP         109024   \n",
       "3        Product Data Analyst   20000             USD          20000   \n",
       "4   Machine Learning Engineer  150000             USD         150000   \n",
       "\n",
       "  employee_residence  remote_ratio company_location company_size  \n",
       "0                 DE             0               DE            L  \n",
       "1                 JP             0               JP            S  \n",
       "2                 GB            50               GB            M  \n",
       "3                 HN             0               HN            S  \n",
       "4                 US            50               US            L  "
      ]
     },
     "execution_count": 2,
     "metadata": {},
     "output_type": "execute_result"
    }
   ],
   "source": [
    "df = pd.read_excel(\"/kaggle/input/data-science-salary/ds_salaries.xlsx\")\n",
    "df.head()"
   ]
  },
  {
   "cell_type": "code",
   "execution_count": 3,
   "id": "306b266f",
   "metadata": {
    "execution": {
     "iopub.execute_input": "2025-01-11T12:59:13.985595Z",
     "iopub.status.busy": "2025-01-11T12:59:13.985095Z",
     "iopub.status.idle": "2025-01-11T12:59:14.005894Z",
     "shell.execute_reply": "2025-01-11T12:59:14.004678Z"
    },
    "papermill": {
     "duration": 0.032492,
     "end_time": "2025-01-11T12:59:14.007484",
     "exception": false,
     "start_time": "2025-01-11T12:59:13.974992",
     "status": "completed"
    },
    "tags": []
   },
   "outputs": [
    {
     "data": {
      "text/html": [
       "<div>\n",
       "<style scoped>\n",
       "    .dataframe tbody tr th:only-of-type {\n",
       "        vertical-align: middle;\n",
       "    }\n",
       "\n",
       "    .dataframe tbody tr th {\n",
       "        vertical-align: top;\n",
       "    }\n",
       "\n",
       "    .dataframe thead th {\n",
       "        text-align: right;\n",
       "    }\n",
       "</style>\n",
       "<table border=\"1\" class=\"dataframe\">\n",
       "  <thead>\n",
       "    <tr style=\"text-align: right;\">\n",
       "      <th></th>\n",
       "      <th>work_year</th>\n",
       "      <th>experience_level</th>\n",
       "      <th>employment_type</th>\n",
       "      <th>job_title</th>\n",
       "      <th>salary</th>\n",
       "      <th>salary_currency</th>\n",
       "      <th>salary_in_usd</th>\n",
       "      <th>employee_residence</th>\n",
       "      <th>remote_ratio</th>\n",
       "      <th>company_location</th>\n",
       "      <th>company_size</th>\n",
       "    </tr>\n",
       "  </thead>\n",
       "  <tbody>\n",
       "    <tr>\n",
       "      <th>0</th>\n",
       "      <td>2020</td>\n",
       "      <td>MI</td>\n",
       "      <td>FT</td>\n",
       "      <td>Data Scientist</td>\n",
       "      <td>70000</td>\n",
       "      <td>EUR</td>\n",
       "      <td>79833</td>\n",
       "      <td>DE</td>\n",
       "      <td>0</td>\n",
       "      <td>DE</td>\n",
       "      <td>L</td>\n",
       "    </tr>\n",
       "    <tr>\n",
       "      <th>1</th>\n",
       "      <td>2020</td>\n",
       "      <td>SE</td>\n",
       "      <td>FT</td>\n",
       "      <td>Machine Learning Scientist</td>\n",
       "      <td>260000</td>\n",
       "      <td>USD</td>\n",
       "      <td>260000</td>\n",
       "      <td>JP</td>\n",
       "      <td>0</td>\n",
       "      <td>JP</td>\n",
       "      <td>S</td>\n",
       "    </tr>\n",
       "    <tr>\n",
       "      <th>2</th>\n",
       "      <td>2020</td>\n",
       "      <td>SE</td>\n",
       "      <td>FT</td>\n",
       "      <td>Big Data Engineer</td>\n",
       "      <td>85000</td>\n",
       "      <td>GBP</td>\n",
       "      <td>109024</td>\n",
       "      <td>GB</td>\n",
       "      <td>50</td>\n",
       "      <td>GB</td>\n",
       "      <td>M</td>\n",
       "    </tr>\n",
       "    <tr>\n",
       "      <th>3</th>\n",
       "      <td>2020</td>\n",
       "      <td>MI</td>\n",
       "      <td>FT</td>\n",
       "      <td>Product Data Analyst</td>\n",
       "      <td>20000</td>\n",
       "      <td>USD</td>\n",
       "      <td>20000</td>\n",
       "      <td>HN</td>\n",
       "      <td>0</td>\n",
       "      <td>HN</td>\n",
       "      <td>S</td>\n",
       "    </tr>\n",
       "    <tr>\n",
       "      <th>4</th>\n",
       "      <td>2020</td>\n",
       "      <td>SE</td>\n",
       "      <td>FT</td>\n",
       "      <td>Machine Learning Engineer</td>\n",
       "      <td>150000</td>\n",
       "      <td>USD</td>\n",
       "      <td>150000</td>\n",
       "      <td>US</td>\n",
       "      <td>50</td>\n",
       "      <td>US</td>\n",
       "      <td>L</td>\n",
       "    </tr>\n",
       "  </tbody>\n",
       "</table>\n",
       "</div>"
      ],
      "text/plain": [
       "   work_year experience_level employment_type                   job_title  \\\n",
       "0       2020               MI              FT              Data Scientist   \n",
       "1       2020               SE              FT  Machine Learning Scientist   \n",
       "2       2020               SE              FT           Big Data Engineer   \n",
       "3       2020               MI              FT        Product Data Analyst   \n",
       "4       2020               SE              FT   Machine Learning Engineer   \n",
       "\n",
       "   salary salary_currency  salary_in_usd employee_residence  remote_ratio  \\\n",
       "0   70000             EUR          79833                 DE             0   \n",
       "1  260000             USD         260000                 JP             0   \n",
       "2   85000             GBP         109024                 GB            50   \n",
       "3   20000             USD          20000                 HN             0   \n",
       "4  150000             USD         150000                 US            50   \n",
       "\n",
       "  company_location company_size  \n",
       "0               DE            L  \n",
       "1               JP            S  \n",
       "2               GB            M  \n",
       "3               HN            S  \n",
       "4               US            L  "
      ]
     },
     "execution_count": 3,
     "metadata": {},
     "output_type": "execute_result"
    }
   ],
   "source": [
    "df.drop(columns='Unnamed: 0',inplace=True)\n",
    "df.head()"
   ]
  },
  {
   "cell_type": "markdown",
   "id": "16dc2d69",
   "metadata": {
    "papermill": {
     "duration": 0.009896,
     "end_time": "2025-01-11T12:59:14.026800",
     "exception": false,
     "start_time": "2025-01-11T12:59:14.016904",
     "status": "completed"
    },
    "tags": []
   },
   "source": [
    "## Understanding the Data"
   ]
  },
  {
   "cell_type": "code",
   "execution_count": 4,
   "id": "7952b02d",
   "metadata": {
    "execution": {
     "iopub.execute_input": "2025-01-11T12:59:14.048067Z",
     "iopub.status.busy": "2025-01-11T12:59:14.047696Z",
     "iopub.status.idle": "2025-01-11T12:59:14.053413Z",
     "shell.execute_reply": "2025-01-11T12:59:14.052450Z"
    },
    "papermill": {
     "duration": 0.01817,
     "end_time": "2025-01-11T12:59:14.055071",
     "exception": false,
     "start_time": "2025-01-11T12:59:14.036901",
     "status": "completed"
    },
    "tags": []
   },
   "outputs": [
    {
     "data": {
      "text/plain": [
       "(607, 11)"
      ]
     },
     "execution_count": 4,
     "metadata": {},
     "output_type": "execute_result"
    }
   ],
   "source": [
    "df.shape"
   ]
  },
  {
   "cell_type": "code",
   "execution_count": 5,
   "id": "1c16eb3d",
   "metadata": {
    "execution": {
     "iopub.execute_input": "2025-01-11T12:59:14.075255Z",
     "iopub.status.busy": "2025-01-11T12:59:14.074918Z",
     "iopub.status.idle": "2025-01-11T12:59:14.095982Z",
     "shell.execute_reply": "2025-01-11T12:59:14.094782Z"
    },
    "papermill": {
     "duration": 0.033058,
     "end_time": "2025-01-11T12:59:14.097723",
     "exception": false,
     "start_time": "2025-01-11T12:59:14.064665",
     "status": "completed"
    },
    "tags": []
   },
   "outputs": [
    {
     "name": "stdout",
     "output_type": "stream",
     "text": [
      "<class 'pandas.core.frame.DataFrame'>\n",
      "RangeIndex: 607 entries, 0 to 606\n",
      "Data columns (total 11 columns):\n",
      " #   Column              Non-Null Count  Dtype \n",
      "---  ------              --------------  ----- \n",
      " 0   work_year           607 non-null    int64 \n",
      " 1   experience_level    607 non-null    object\n",
      " 2   employment_type     607 non-null    object\n",
      " 3   job_title           607 non-null    object\n",
      " 4   salary              607 non-null    int64 \n",
      " 5   salary_currency     607 non-null    object\n",
      " 6   salary_in_usd       607 non-null    int64 \n",
      " 7   employee_residence  607 non-null    object\n",
      " 8   remote_ratio        607 non-null    int64 \n",
      " 9   company_location    607 non-null    object\n",
      " 10  company_size        607 non-null    object\n",
      "dtypes: int64(4), object(7)\n",
      "memory usage: 52.3+ KB\n"
     ]
    }
   ],
   "source": [
    "df.info()"
   ]
  },
  {
   "cell_type": "code",
   "execution_count": 6,
   "id": "86e225d1",
   "metadata": {
    "execution": {
     "iopub.execute_input": "2025-01-11T12:59:14.118054Z",
     "iopub.status.busy": "2025-01-11T12:59:14.117728Z",
     "iopub.status.idle": "2025-01-11T12:59:14.127758Z",
     "shell.execute_reply": "2025-01-11T12:59:14.126855Z"
    },
    "papermill": {
     "duration": 0.021963,
     "end_time": "2025-01-11T12:59:14.129386",
     "exception": false,
     "start_time": "2025-01-11T12:59:14.107423",
     "status": "completed"
    },
    "tags": []
   },
   "outputs": [
    {
     "data": {
      "text/plain": [
       "work_year               3\n",
       "experience_level        4\n",
       "employment_type         4\n",
       "job_title              50\n",
       "salary                272\n",
       "salary_currency        17\n",
       "salary_in_usd         369\n",
       "employee_residence     57\n",
       "remote_ratio            3\n",
       "company_location       50\n",
       "company_size            3\n",
       "dtype: int64"
      ]
     },
     "execution_count": 6,
     "metadata": {},
     "output_type": "execute_result"
    }
   ],
   "source": [
    "df.nunique()"
   ]
  },
  {
   "cell_type": "code",
   "execution_count": 7,
   "id": "fd274c93",
   "metadata": {
    "execution": {
     "iopub.execute_input": "2025-01-11T12:59:14.149604Z",
     "iopub.status.busy": "2025-01-11T12:59:14.149240Z",
     "iopub.status.idle": "2025-01-11T12:59:14.154023Z",
     "shell.execute_reply": "2025-01-11T12:59:14.153161Z"
    },
    "papermill": {
     "duration": 0.016371,
     "end_time": "2025-01-11T12:59:14.155385",
     "exception": false,
     "start_time": "2025-01-11T12:59:14.139014",
     "status": "completed"
    },
    "tags": []
   },
   "outputs": [],
   "source": [
    "# Lets drop salary columns and use \"salary_in_usd\" to ensure consistency across different countries and currencies\n",
    "df.drop(columns=['salary'],inplace=True)"
   ]
  },
  {
   "cell_type": "code",
   "execution_count": 8,
   "id": "6c0b4832",
   "metadata": {
    "execution": {
     "iopub.execute_input": "2025-01-11T12:59:14.175712Z",
     "iopub.status.busy": "2025-01-11T12:59:14.175338Z",
     "iopub.status.idle": "2025-01-11T12:59:14.484878Z",
     "shell.execute_reply": "2025-01-11T12:59:14.483817Z"
    },
    "papermill": {
     "duration": 0.321744,
     "end_time": "2025-01-11T12:59:14.486665",
     "exception": false,
     "start_time": "2025-01-11T12:59:14.164921",
     "status": "completed"
    },
    "tags": []
   },
   "outputs": [
    {
     "data": {
      "text/plain": [
       "<Axes: >"
      ]
     },
     "execution_count": 8,
     "metadata": {},
     "output_type": "execute_result"
    },
    {
     "data": {
      "image/png": "[encoded data removed]",
      "text/plain": [
       "<Figure size 640x480 with 1 Axes>"
      ]
     },
     "metadata": {},
     "output_type": "display_data"
    }
   ],
   "source": [
    "df['salary_in_usd'].plot()"
   ]
  },
  {
   "cell_type": "markdown",
   "id": "12dba772",
   "metadata": {
    "papermill": {
     "duration": 0.010474,
     "end_time": "2025-01-11T12:59:14.508036",
     "exception": false,
     "start_time": "2025-01-11T12:59:14.497562",
     "status": "completed"
    },
    "tags": []
   },
   "source": [
    "## Business Problems (Solved using Pandas)"
   ]
  },
  {
   "cell_type": "code",
   "execution_count": 9,
   "id": "aebc1a99",
   "metadata": {
    "execution": {
     "iopub.execute_input": "2025-01-11T12:59:14.531061Z",
     "iopub.status.busy": "2025-01-11T12:59:14.530724Z",
     "iopub.status.idle": "2025-01-11T12:59:14.543655Z",
     "shell.execute_reply": "2025-01-11T12:59:14.542579Z"
    },
    "papermill": {
     "duration": 0.026634,
     "end_time": "2025-01-11T12:59:14.545456",
     "exception": false,
     "start_time": "2025-01-11T12:59:14.518822",
     "status": "completed"
    },
    "tags": []
   },
   "outputs": [
    {
     "data": {
      "text/html": [
       "<div>\n",
       "<style scoped>\n",
       "    .dataframe tbody tr th:only-of-type {\n",
       "        vertical-align: middle;\n",
       "    }\n",
       "\n",
       "    .dataframe tbody tr th {\n",
       "        vertical-align: top;\n",
       "    }\n",
       "\n",
       "    .dataframe thead th {\n",
       "        text-align: right;\n",
       "    }\n",
       "</style>\n",
       "<table border=\"1\" class=\"dataframe\">\n",
       "  <thead>\n",
       "    <tr style=\"text-align: right;\">\n",
       "      <th></th>\n",
       "      <th>work_year</th>\n",
       "      <th>experience_level</th>\n",
       "      <th>employment_type</th>\n",
       "      <th>job_title</th>\n",
       "      <th>salary_currency</th>\n",
       "      <th>salary_in_usd</th>\n",
       "      <th>employee_residence</th>\n",
       "      <th>remote_ratio</th>\n",
       "      <th>company_location</th>\n",
       "      <th>company_size</th>\n",
       "    </tr>\n",
       "  </thead>\n",
       "  <tbody>\n",
       "    <tr>\n",
       "      <th>0</th>\n",
       "      <td>2020</td>\n",
       "      <td>MI</td>\n",
       "      <td>FT</td>\n",
       "      <td>Data Scientist</td>\n",
       "      <td>EUR</td>\n",
       "      <td>79833</td>\n",
       "      <td>DE</td>\n",
       "      <td>0</td>\n",
       "      <td>DE</td>\n",
       "      <td>L</td>\n",
       "    </tr>\n",
       "    <tr>\n",
       "      <th>1</th>\n",
       "      <td>2020</td>\n",
       "      <td>SE</td>\n",
       "      <td>FT</td>\n",
       "      <td>Machine Learning Scientist</td>\n",
       "      <td>USD</td>\n",
       "      <td>260000</td>\n",
       "      <td>JP</td>\n",
       "      <td>0</td>\n",
       "      <td>JP</td>\n",
       "      <td>S</td>\n",
       "    </tr>\n",
       "    <tr>\n",
       "      <th>2</th>\n",
       "      <td>2020</td>\n",
       "      <td>SE</td>\n",
       "      <td>FT</td>\n",
       "      <td>Big Data Engineer</td>\n",
       "      <td>GBP</td>\n",
       "      <td>109024</td>\n",
       "      <td>GB</td>\n",
       "      <td>50</td>\n",
       "      <td>GB</td>\n",
       "      <td>M</td>\n",
       "    </tr>\n",
       "    <tr>\n",
       "      <th>3</th>\n",
       "      <td>2020</td>\n",
       "      <td>MI</td>\n",
       "      <td>FT</td>\n",
       "      <td>Product Data Analyst</td>\n",
       "      <td>USD</td>\n",
       "      <td>20000</td>\n",
       "      <td>HN</td>\n",
       "      <td>0</td>\n",
       "      <td>HN</td>\n",
       "      <td>S</td>\n",
       "    </tr>\n",
       "    <tr>\n",
       "      <th>4</th>\n",
       "      <td>2020</td>\n",
       "      <td>SE</td>\n",
       "      <td>FT</td>\n",
       "      <td>Machine Learning Engineer</td>\n",
       "      <td>USD</td>\n",
       "      <td>150000</td>\n",
       "      <td>US</td>\n",
       "      <td>50</td>\n",
       "      <td>US</td>\n",
       "      <td>L</td>\n",
       "    </tr>\n",
       "  </tbody>\n",
       "</table>\n",
       "</div>"
      ],
      "text/plain": [
       "   work_year experience_level employment_type                   job_title  \\\n",
       "0       2020               MI              FT              Data Scientist   \n",
       "1       2020               SE              FT  Machine Learning Scientist   \n",
       "2       2020               SE              FT           Big Data Engineer   \n",
       "3       2020               MI              FT        Product Data Analyst   \n",
       "4       2020               SE              FT   Machine Learning Engineer   \n",
       "\n",
       "  salary_currency  salary_in_usd employee_residence  remote_ratio  \\\n",
       "0             EUR          79833                 DE             0   \n",
       "1             USD         260000                 JP             0   \n",
       "2             GBP         109024                 GB            50   \n",
       "3             USD          20000                 HN             0   \n",
       "4             USD         150000                 US            50   \n",
       "\n",
       "  company_location company_size  \n",
       "0               DE            L  \n",
       "1               JP            S  \n",
       "2               GB            M  \n",
       "3               HN            S  \n",
       "4               US            L  "
      ]
     },
     "execution_count": 9,
     "metadata": {},
     "output_type": "execute_result"
    }
   ],
   "source": [
    "df.head()"
   ]
  },
  {
   "cell_type": "markdown",
   "id": "2f94a4ac",
   "metadata": {
    "papermill": {
     "duration": 0.010581,
     "end_time": "2025-01-11T12:59:14.567087",
     "exception": false,
     "start_time": "2025-01-11T12:59:14.556506",
     "status": "completed"
    },
    "tags": []
   },
   "source": [
    "### Q1. Salary Analysis by Job Title"
   ]
  },
  {
   "cell_type": "code",
   "execution_count": 10,
   "id": "f9ec3e02",
   "metadata": {
    "execution": {
     "iopub.execute_input": "2025-01-11T12:59:14.590975Z",
     "iopub.status.busy": "2025-01-11T12:59:14.590614Z",
     "iopub.status.idle": "2025-01-11T12:59:14.615962Z",
     "shell.execute_reply": "2025-01-11T12:59:14.614775Z"
    },
    "papermill": {
     "duration": 0.03977,
     "end_time": "2025-01-11T12:59:14.617691",
     "exception": false,
     "start_time": "2025-01-11T12:59:14.577921",
     "status": "completed"
    },
    "tags": []
   },
   "outputs": [
    {
     "data": {
      "text/html": [
       "<div>\n",
       "<style scoped>\n",
       "    .dataframe tbody tr th:only-of-type {\n",
       "        vertical-align: middle;\n",
       "    }\n",
       "\n",
       "    .dataframe tbody tr th {\n",
       "        vertical-align: top;\n",
       "    }\n",
       "\n",
       "    .dataframe thead th {\n",
       "        text-align: right;\n",
       "    }\n",
       "</style>\n",
       "<table border=\"1\" class=\"dataframe\">\n",
       "  <thead>\n",
       "    <tr style=\"text-align: right;\">\n",
       "      <th></th>\n",
       "      <th>job_title</th>\n",
       "      <th>avg_salary</th>\n",
       "    </tr>\n",
       "  </thead>\n",
       "  <tbody>\n",
       "    <tr>\n",
       "      <th>0</th>\n",
       "      <td>3D Computer Vision Researcher</td>\n",
       "      <td>$5409.00</td>\n",
       "    </tr>\n",
       "    <tr>\n",
       "      <th>1</th>\n",
       "      <td>AI Scientist</td>\n",
       "      <td>$66135.57</td>\n",
       "    </tr>\n",
       "    <tr>\n",
       "      <th>2</th>\n",
       "      <td>Analytics Engineer</td>\n",
       "      <td>$175000.00</td>\n",
       "    </tr>\n",
       "    <tr>\n",
       "      <th>3</th>\n",
       "      <td>Applied Data Scientist</td>\n",
       "      <td>$175655.00</td>\n",
       "    </tr>\n",
       "    <tr>\n",
       "      <th>4</th>\n",
       "      <td>Applied Machine Learning Scientist</td>\n",
       "      <td>$142068.75</td>\n",
       "    </tr>\n",
       "    <tr>\n",
       "      <th>5</th>\n",
       "      <td>BI Data Analyst</td>\n",
       "      <td>$74755.17</td>\n",
       "    </tr>\n",
       "    <tr>\n",
       "      <th>6</th>\n",
       "      <td>Big Data Architect</td>\n",
       "      <td>$99703.00</td>\n",
       "    </tr>\n",
       "    <tr>\n",
       "      <th>7</th>\n",
       "      <td>Big Data Engineer</td>\n",
       "      <td>$51974.00</td>\n",
       "    </tr>\n",
       "    <tr>\n",
       "      <th>8</th>\n",
       "      <td>Business Data Analyst</td>\n",
       "      <td>$76691.20</td>\n",
       "    </tr>\n",
       "    <tr>\n",
       "      <th>9</th>\n",
       "      <td>Cloud Data Engineer</td>\n",
       "      <td>$124647.00</td>\n",
       "    </tr>\n",
       "    <tr>\n",
       "      <th>10</th>\n",
       "      <td>Computer Vision Engineer</td>\n",
       "      <td>$44419.33</td>\n",
       "    </tr>\n",
       "    <tr>\n",
       "      <th>11</th>\n",
       "      <td>Computer Vision Software Engineer</td>\n",
       "      <td>$105248.67</td>\n",
       "    </tr>\n",
       "    <tr>\n",
       "      <th>12</th>\n",
       "      <td>Data Analyst</td>\n",
       "      <td>$92893.06</td>\n",
       "    </tr>\n",
       "    <tr>\n",
       "      <th>13</th>\n",
       "      <td>Data Analytics Engineer</td>\n",
       "      <td>$64799.25</td>\n",
       "    </tr>\n",
       "    <tr>\n",
       "      <th>14</th>\n",
       "      <td>Data Analytics Lead</td>\n",
       "      <td>$405000.00</td>\n",
       "    </tr>\n",
       "    <tr>\n",
       "      <th>15</th>\n",
       "      <td>Data Analytics Manager</td>\n",
       "      <td>$127134.29</td>\n",
       "    </tr>\n",
       "    <tr>\n",
       "      <th>16</th>\n",
       "      <td>Data Architect</td>\n",
       "      <td>$177873.91</td>\n",
       "    </tr>\n",
       "    <tr>\n",
       "      <th>17</th>\n",
       "      <td>Data Engineer</td>\n",
       "      <td>$112725.00</td>\n",
       "    </tr>\n",
       "    <tr>\n",
       "      <th>18</th>\n",
       "      <td>Data Engineering Manager</td>\n",
       "      <td>$123227.20</td>\n",
       "    </tr>\n",
       "    <tr>\n",
       "      <th>19</th>\n",
       "      <td>Data Science Consultant</td>\n",
       "      <td>$69420.71</td>\n",
       "    </tr>\n",
       "    <tr>\n",
       "      <th>20</th>\n",
       "      <td>Data Science Engineer</td>\n",
       "      <td>$75803.33</td>\n",
       "    </tr>\n",
       "    <tr>\n",
       "      <th>21</th>\n",
       "      <td>Data Science Manager</td>\n",
       "      <td>$158328.50</td>\n",
       "    </tr>\n",
       "    <tr>\n",
       "      <th>22</th>\n",
       "      <td>Data Scientist</td>\n",
       "      <td>$108187.83</td>\n",
       "    </tr>\n",
       "    <tr>\n",
       "      <th>23</th>\n",
       "      <td>Data Specialist</td>\n",
       "      <td>$165000.00</td>\n",
       "    </tr>\n",
       "    <tr>\n",
       "      <th>24</th>\n",
       "      <td>Director of Data Engineering</td>\n",
       "      <td>$156738.00</td>\n",
       "    </tr>\n",
       "    <tr>\n",
       "      <th>25</th>\n",
       "      <td>Director of Data Science</td>\n",
       "      <td>$195074.00</td>\n",
       "    </tr>\n",
       "    <tr>\n",
       "      <th>26</th>\n",
       "      <td>ETL Developer</td>\n",
       "      <td>$54957.00</td>\n",
       "    </tr>\n",
       "    <tr>\n",
       "      <th>27</th>\n",
       "      <td>Finance Data Analyst</td>\n",
       "      <td>$61896.00</td>\n",
       "    </tr>\n",
       "    <tr>\n",
       "      <th>28</th>\n",
       "      <td>Financial Data Analyst</td>\n",
       "      <td>$275000.00</td>\n",
       "    </tr>\n",
       "    <tr>\n",
       "      <th>29</th>\n",
       "      <td>Head of Data</td>\n",
       "      <td>$160162.60</td>\n",
       "    </tr>\n",
       "    <tr>\n",
       "      <th>30</th>\n",
       "      <td>Head of Data Science</td>\n",
       "      <td>$146718.75</td>\n",
       "    </tr>\n",
       "    <tr>\n",
       "      <th>31</th>\n",
       "      <td>Head of Machine Learning</td>\n",
       "      <td>$79039.00</td>\n",
       "    </tr>\n",
       "    <tr>\n",
       "      <th>32</th>\n",
       "      <td>Lead Data Analyst</td>\n",
       "      <td>$92203.00</td>\n",
       "    </tr>\n",
       "    <tr>\n",
       "      <th>33</th>\n",
       "      <td>Lead Data Engineer</td>\n",
       "      <td>$139724.50</td>\n",
       "    </tr>\n",
       "    <tr>\n",
       "      <th>34</th>\n",
       "      <td>Lead Data Scientist</td>\n",
       "      <td>$115190.00</td>\n",
       "    </tr>\n",
       "    <tr>\n",
       "      <th>35</th>\n",
       "      <td>Lead Machine Learning Engineer</td>\n",
       "      <td>$87932.00</td>\n",
       "    </tr>\n",
       "    <tr>\n",
       "      <th>36</th>\n",
       "      <td>ML Engineer</td>\n",
       "      <td>$117504.00</td>\n",
       "    </tr>\n",
       "    <tr>\n",
       "      <th>37</th>\n",
       "      <td>Machine Learning Developer</td>\n",
       "      <td>$85860.67</td>\n",
       "    </tr>\n",
       "    <tr>\n",
       "      <th>38</th>\n",
       "      <td>Machine Learning Engineer</td>\n",
       "      <td>$104880.15</td>\n",
       "    </tr>\n",
       "    <tr>\n",
       "      <th>39</th>\n",
       "      <td>Machine Learning Infrastructure Engineer</td>\n",
       "      <td>$101145.00</td>\n",
       "    </tr>\n",
       "    <tr>\n",
       "      <th>40</th>\n",
       "      <td>Machine Learning Manager</td>\n",
       "      <td>$117104.00</td>\n",
       "    </tr>\n",
       "    <tr>\n",
       "      <th>41</th>\n",
       "      <td>Machine Learning Scientist</td>\n",
       "      <td>$158412.50</td>\n",
       "    </tr>\n",
       "    <tr>\n",
       "      <th>42</th>\n",
       "      <td>Marketing Data Analyst</td>\n",
       "      <td>$88654.00</td>\n",
       "    </tr>\n",
       "    <tr>\n",
       "      <th>43</th>\n",
       "      <td>NLP Engineer</td>\n",
       "      <td>$37236.00</td>\n",
       "    </tr>\n",
       "    <tr>\n",
       "      <th>44</th>\n",
       "      <td>Principal Data Analyst</td>\n",
       "      <td>$122500.00</td>\n",
       "    </tr>\n",
       "    <tr>\n",
       "      <th>45</th>\n",
       "      <td>Principal Data Engineer</td>\n",
       "      <td>$328333.33</td>\n",
       "    </tr>\n",
       "    <tr>\n",
       "      <th>46</th>\n",
       "      <td>Principal Data Scientist</td>\n",
       "      <td>$215242.43</td>\n",
       "    </tr>\n",
       "    <tr>\n",
       "      <th>47</th>\n",
       "      <td>Product Data Analyst</td>\n",
       "      <td>$13036.00</td>\n",
       "    </tr>\n",
       "    <tr>\n",
       "      <th>48</th>\n",
       "      <td>Research Scientist</td>\n",
       "      <td>$109019.50</td>\n",
       "    </tr>\n",
       "    <tr>\n",
       "      <th>49</th>\n",
       "      <td>Staff Data Scientist</td>\n",
       "      <td>$105000.00</td>\n",
       "    </tr>\n",
       "  </tbody>\n",
       "</table>\n",
       "</div>"
      ],
      "text/plain": [
       "                                   job_title  avg_salary\n",
       "0              3D Computer Vision Researcher    $5409.00\n",
       "1                               AI Scientist   $66135.57\n",
       "2                         Analytics Engineer  $175000.00\n",
       "3                     Applied Data Scientist  $175655.00\n",
       "4         Applied Machine Learning Scientist  $142068.75\n",
       "5                            BI Data Analyst   $74755.17\n",
       "6                         Big Data Architect   $99703.00\n",
       "7                          Big Data Engineer   $51974.00\n",
       "8                      Business Data Analyst   $76691.20\n",
       "9                        Cloud Data Engineer  $124647.00\n",
       "10                  Computer Vision Engineer   $44419.33\n",
       "11         Computer Vision Software Engineer  $105248.67\n",
       "12                              Data Analyst   $92893.06\n",
       "13                   Data Analytics Engineer   $64799.25\n",
       "14                       Data Analytics Lead  $405000.00\n",
       "15                    Data Analytics Manager  $127134.29\n",
       "16                            Data Architect  $177873.91\n",
       "17                             Data Engineer  $112725.00\n",
       "18                  Data Engineering Manager  $123227.20\n",
       "19                   Data Science Consultant   $69420.71\n",
       "20                     Data Science Engineer   $75803.33\n",
       "21                      Data Science Manager  $158328.50\n",
       "22                            Data Scientist  $108187.83\n",
       "23                           Data Specialist  $165000.00\n",
       "24              Director of Data Engineering  $156738.00\n",
       "25                  Director of Data Science  $195074.00\n",
       "26                             ETL Developer   $54957.00\n",
       "27                      Finance Data Analyst   $61896.00\n",
       "28                    Financial Data Analyst  $275000.00\n",
       "29                              Head of Data  $160162.60\n",
       "30                      Head of Data Science  $146718.75\n",
       "31                  Head of Machine Learning   $79039.00\n",
       "32                         Lead Data Analyst   $92203.00\n",
       "33                        Lead Data Engineer  $139724.50\n",
       "34                       Lead Data Scientist  $115190.00\n",
       "35            Lead Machine Learning Engineer   $87932.00\n",
       "36                               ML Engineer  $117504.00\n",
       "37                Machine Learning Developer   $85860.67\n",
       "38                 Machine Learning Engineer  $104880.15\n",
       "39  Machine Learning Infrastructure Engineer  $101145.00\n",
       "40                  Machine Learning Manager  $117104.00\n",
       "41                Machine Learning Scientist  $158412.50\n",
       "42                    Marketing Data Analyst   $88654.00\n",
       "43                              NLP Engineer   $37236.00\n",
       "44                    Principal Data Analyst  $122500.00\n",
       "45                   Principal Data Engineer  $328333.33\n",
       "46                  Principal Data Scientist  $215242.43\n",
       "47                      Product Data Analyst   $13036.00\n",
       "48                        Research Scientist  $109019.50\n",
       "49                      Staff Data Scientist  $105000.00"
      ]
     },
     "execution_count": 10,
     "metadata": {},
     "output_type": "execute_result"
    }
   ],
   "source": [
    "df.groupby(['job_title']).agg(\n",
    "    avg_salary = ('salary_in_usd','mean')\n",
    ").reset_index().assign(\n",
    "    avg_salary=lambda x: x['avg_salary'].apply(lambda v: f\"${v:.2f}\")\n",
    ")"
   ]
  },
  {
   "cell_type": "markdown",
   "id": "c5f4a490",
   "metadata": {
    "papermill": {
     "duration": 0.011048,
     "end_time": "2025-01-11T12:59:14.640368",
     "exception": false,
     "start_time": "2025-01-11T12:59:14.629320",
     "status": "completed"
    },
    "tags": []
   },
   "source": [
    "### Q2. Top Paying Companies (based on Location)"
   ]
  },
  {
   "cell_type": "code",
   "execution_count": 11,
   "id": "af4a0cc8",
   "metadata": {
    "execution": {
     "iopub.execute_input": "2025-01-11T12:59:14.664561Z",
     "iopub.status.busy": "2025-01-11T12:59:14.664139Z",
     "iopub.status.idle": "2025-01-11T12:59:14.679453Z",
     "shell.execute_reply": "2025-01-11T12:59:14.678456Z"
    },
    "papermill": {
     "duration": 0.029589,
     "end_time": "2025-01-11T12:59:14.681306",
     "exception": false,
     "start_time": "2025-01-11T12:59:14.651717",
     "status": "completed"
    },
    "tags": []
   },
   "outputs": [
    {
     "data": {
      "text/html": [
       "<div>\n",
       "<style scoped>\n",
       "    .dataframe tbody tr th:only-of-type {\n",
       "        vertical-align: middle;\n",
       "    }\n",
       "\n",
       "    .dataframe tbody tr th {\n",
       "        vertical-align: top;\n",
       "    }\n",
       "\n",
       "    .dataframe thead th {\n",
       "        text-align: right;\n",
       "    }\n",
       "</style>\n",
       "<table border=\"1\" class=\"dataframe\">\n",
       "  <thead>\n",
       "    <tr style=\"text-align: right;\">\n",
       "      <th></th>\n",
       "      <th>Location</th>\n",
       "      <th>avg_salary</th>\n",
       "    </tr>\n",
       "  </thead>\n",
       "  <tbody>\n",
       "    <tr>\n",
       "      <th>0</th>\n",
       "      <td>RU</td>\n",
       "      <td>157500.00</td>\n",
       "    </tr>\n",
       "    <tr>\n",
       "      <th>1</th>\n",
       "      <td>US</td>\n",
       "      <td>144055.26</td>\n",
       "    </tr>\n",
       "    <tr>\n",
       "      <th>2</th>\n",
       "      <td>NZ</td>\n",
       "      <td>125000.00</td>\n",
       "    </tr>\n",
       "    <tr>\n",
       "      <th>3</th>\n",
       "      <td>IL</td>\n",
       "      <td>119059.00</td>\n",
       "    </tr>\n",
       "    <tr>\n",
       "      <th>4</th>\n",
       "      <td>JP</td>\n",
       "      <td>114127.33</td>\n",
       "    </tr>\n",
       "  </tbody>\n",
       "</table>\n",
       "</div>"
      ],
      "text/plain": [
       "  Location  avg_salary\n",
       "0       RU   157500.00\n",
       "1       US   144055.26\n",
       "2       NZ   125000.00\n",
       "3       IL   119059.00\n",
       "4       JP   114127.33"
      ]
     },
     "execution_count": 11,
     "metadata": {},
     "output_type": "execute_result"
    }
   ],
   "source": [
    "result = (\n",
    "    df.groupby('company_location')['salary_in_usd']\n",
    "    .mean()\n",
    "    .nlargest(5)\n",
    "    .reset_index()\n",
    "    .rename(columns={'company_location': 'Location', 'salary_in_usd': 'avg_salary'})\n",
    ")\n",
    "\n",
    "# Round avg_salary to 2 decimal places\n",
    "result['avg_salary'] = result['avg_salary'].round(2)\n",
    "result"
   ]
  },
  {
   "cell_type": "markdown",
   "id": "974fc087",
   "metadata": {
    "papermill": {
     "duration": 0.011495,
     "end_time": "2025-01-11T12:59:14.704533",
     "exception": false,
     "start_time": "2025-01-11T12:59:14.693038",
     "status": "completed"
    },
    "tags": []
   },
   "source": [
    "### Q3.Remote Work vs Salary"
   ]
  },
  {
   "cell_type": "code",
   "execution_count": 12,
   "id": "66411291",
   "metadata": {
    "execution": {
     "iopub.execute_input": "2025-01-11T12:59:14.728773Z",
     "iopub.status.busy": "2025-01-11T12:59:14.728429Z",
     "iopub.status.idle": "2025-01-11T12:59:14.742156Z",
     "shell.execute_reply": "2025-01-11T12:59:14.741289Z"
    },
    "papermill": {
     "duration": 0.027732,
     "end_time": "2025-01-11T12:59:14.743741",
     "exception": false,
     "start_time": "2025-01-11T12:59:14.716009",
     "status": "completed"
    },
    "tags": []
   },
   "outputs": [
    {
     "data": {
      "text/html": [
       "<div>\n",
       "<style scoped>\n",
       "    .dataframe tbody tr th:only-of-type {\n",
       "        vertical-align: middle;\n",
       "    }\n",
       "\n",
       "    .dataframe tbody tr th {\n",
       "        vertical-align: top;\n",
       "    }\n",
       "\n",
       "    .dataframe thead th {\n",
       "        text-align: right;\n",
       "    }\n",
       "</style>\n",
       "<table border=\"1\" class=\"dataframe\">\n",
       "  <thead>\n",
       "    <tr style=\"text-align: right;\">\n",
       "      <th></th>\n",
       "      <th>remote_ratio</th>\n",
       "      <th>avg_salary_usd</th>\n",
       "    </tr>\n",
       "  </thead>\n",
       "  <tbody>\n",
       "    <tr>\n",
       "      <th>0</th>\n",
       "      <td>0</td>\n",
       "      <td>106354.622047</td>\n",
       "    </tr>\n",
       "    <tr>\n",
       "      <th>1</th>\n",
       "      <td>50</td>\n",
       "      <td>80823.030303</td>\n",
       "    </tr>\n",
       "    <tr>\n",
       "      <th>2</th>\n",
       "      <td>100</td>\n",
       "      <td>122457.454068</td>\n",
       "    </tr>\n",
       "  </tbody>\n",
       "</table>\n",
       "</div>"
      ],
      "text/plain": [
       "   remote_ratio  avg_salary_usd\n",
       "0             0   106354.622047\n",
       "1            50    80823.030303\n",
       "2           100   122457.454068"
      ]
     },
     "execution_count": 12,
     "metadata": {},
     "output_type": "execute_result"
    }
   ],
   "source": [
    "df.groupby(['remote_ratio']).agg(\n",
    "    avg_salary_usd = ('salary_in_usd','mean')\n",
    ").reset_index()"
   ]
  },
  {
   "cell_type": "markdown",
   "id": "8c7aa66f",
   "metadata": {
    "papermill": {
     "duration": 0.011369,
     "end_time": "2025-01-11T12:59:14.766873",
     "exception": false,
     "start_time": "2025-01-11T12:59:14.755504",
     "status": "completed"
    },
    "tags": []
   },
   "source": [
    "### Q4. Experience Level Impact on Salaries"
   ]
  },
  {
   "cell_type": "code",
   "execution_count": 13,
   "id": "b9cf0d30",
   "metadata": {
    "execution": {
     "iopub.execute_input": "2025-01-11T12:59:14.791603Z",
     "iopub.status.busy": "2025-01-11T12:59:14.791189Z",
     "iopub.status.idle": "2025-01-11T12:59:14.805984Z",
     "shell.execute_reply": "2025-01-11T12:59:14.804586Z"
    },
    "papermill": {
     "duration": 0.029062,
     "end_time": "2025-01-11T12:59:14.807686",
     "exception": false,
     "start_time": "2025-01-11T12:59:14.778624",
     "status": "completed"
    },
    "tags": []
   },
   "outputs": [
    {
     "data": {
      "text/html": [
       "<div>\n",
       "<style scoped>\n",
       "    .dataframe tbody tr th:only-of-type {\n",
       "        vertical-align: middle;\n",
       "    }\n",
       "\n",
       "    .dataframe tbody tr th {\n",
       "        vertical-align: top;\n",
       "    }\n",
       "\n",
       "    .dataframe thead th {\n",
       "        text-align: right;\n",
       "    }\n",
       "</style>\n",
       "<table border=\"1\" class=\"dataframe\">\n",
       "  <thead>\n",
       "    <tr style=\"text-align: right;\">\n",
       "      <th></th>\n",
       "      <th>experience_level</th>\n",
       "      <th>avg_salary_usd</th>\n",
       "    </tr>\n",
       "  </thead>\n",
       "  <tbody>\n",
       "    <tr>\n",
       "      <th>0</th>\n",
       "      <td>EN</td>\n",
       "      <td>61643.318182</td>\n",
       "    </tr>\n",
       "    <tr>\n",
       "      <th>1</th>\n",
       "      <td>EX</td>\n",
       "      <td>199392.038462</td>\n",
       "    </tr>\n",
       "    <tr>\n",
       "      <th>2</th>\n",
       "      <td>MI</td>\n",
       "      <td>87996.056338</td>\n",
       "    </tr>\n",
       "    <tr>\n",
       "      <th>3</th>\n",
       "      <td>SE</td>\n",
       "      <td>138617.292857</td>\n",
       "    </tr>\n",
       "  </tbody>\n",
       "</table>\n",
       "</div>"
      ],
      "text/plain": [
       "  experience_level  avg_salary_usd\n",
       "0               EN    61643.318182\n",
       "1               EX   199392.038462\n",
       "2               MI    87996.056338\n",
       "3               SE   138617.292857"
      ]
     },
     "execution_count": 13,
     "metadata": {},
     "output_type": "execute_result"
    }
   ],
   "source": [
    "df.groupby(['experience_level']).agg(\n",
    "    avg_salary_usd = ('salary_in_usd','mean')\n",
    ").reset_index()"
   ]
  },
  {
   "cell_type": "code",
   "execution_count": 14,
   "id": "ffd79b55",
   "metadata": {
    "execution": {
     "iopub.execute_input": "2025-01-11T12:59:14.832701Z",
     "iopub.status.busy": "2025-01-11T12:59:14.832367Z",
     "iopub.status.idle": "2025-01-11T12:59:15.089771Z",
     "shell.execute_reply": "2025-01-11T12:59:15.088542Z"
    },
    "papermill": {
     "duration": 0.271802,
     "end_time": "2025-01-11T12:59:15.091587",
     "exception": false,
     "start_time": "2025-01-11T12:59:14.819785",
     "status": "completed"
    },
    "tags": []
   },
   "outputs": [
    {
     "data": {
      "text/plain": [
       "<Axes: >"
      ]
     },
     "execution_count": 14,
     "metadata": {},
     "output_type": "execute_result"
    },
    {
     "data": {
      "image/png": "[encoded data removed]",
      "text/plain": [
       "<Figure size 640x480 with 1 Axes>"
      ]
     },
     "metadata": {},
     "output_type": "display_data"
    }
   ],
   "source": [
    "df.groupby(['experience_level']).agg(\n",
    "    avg_salary_usd = ('salary_in_usd','mean')\n",
    ").reset_index().plot(kind='bar')"
   ]
  },
  {
   "cell_type": "markdown",
   "id": "6c2d234b",
   "metadata": {
    "papermill": {
     "duration": 0.011962,
     "end_time": "2025-01-11T12:59:15.116020",
     "exception": false,
     "start_time": "2025-01-11T12:59:15.104058",
     "status": "completed"
    },
    "tags": []
   },
   "source": [
    "### Q5. Company Size Salary Comparison"
   ]
  },
  {
   "cell_type": "code",
   "execution_count": 15,
   "id": "70d9f97d",
   "metadata": {
    "execution": {
     "iopub.execute_input": "2025-01-11T12:59:15.142148Z",
     "iopub.status.busy": "2025-01-11T12:59:15.141813Z",
     "iopub.status.idle": "2025-01-11T12:59:15.156265Z",
     "shell.execute_reply": "2025-01-11T12:59:15.155397Z"
    },
    "papermill": {
     "duration": 0.029474,
     "end_time": "2025-01-11T12:59:15.157948",
     "exception": false,
     "start_time": "2025-01-11T12:59:15.128474",
     "status": "completed"
    },
    "tags": []
   },
   "outputs": [
    {
     "data": {
      "text/html": [
       "<div>\n",
       "<style scoped>\n",
       "    .dataframe tbody tr th:only-of-type {\n",
       "        vertical-align: middle;\n",
       "    }\n",
       "\n",
       "    .dataframe tbody tr th {\n",
       "        vertical-align: top;\n",
       "    }\n",
       "\n",
       "    .dataframe thead th {\n",
       "        text-align: right;\n",
       "    }\n",
       "</style>\n",
       "<table border=\"1\" class=\"dataframe\">\n",
       "  <thead>\n",
       "    <tr style=\"text-align: right;\">\n",
       "      <th></th>\n",
       "      <th>company_size</th>\n",
       "      <th>avg_salary_usd</th>\n",
       "    </tr>\n",
       "  </thead>\n",
       "  <tbody>\n",
       "    <tr>\n",
       "      <th>0</th>\n",
       "      <td>L</td>\n",
       "      <td>119242.994949</td>\n",
       "    </tr>\n",
       "    <tr>\n",
       "      <th>1</th>\n",
       "      <td>M</td>\n",
       "      <td>116905.466258</td>\n",
       "    </tr>\n",
       "    <tr>\n",
       "      <th>2</th>\n",
       "      <td>S</td>\n",
       "      <td>77632.674699</td>\n",
       "    </tr>\n",
       "  </tbody>\n",
       "</table>\n",
       "</div>"
      ],
      "text/plain": [
       "  company_size  avg_salary_usd\n",
       "0            L   119242.994949\n",
       "1            M   116905.466258\n",
       "2            S    77632.674699"
      ]
     },
     "execution_count": 15,
     "metadata": {},
     "output_type": "execute_result"
    }
   ],
   "source": [
    "df.groupby(['company_size']).agg(\n",
    "    avg_salary_usd = ('salary_in_usd','mean')\n",
    ").reset_index()"
   ]
  },
  {
   "cell_type": "code",
   "execution_count": 16,
   "id": "f59f4ab5",
   "metadata": {
    "execution": {
     "iopub.execute_input": "2025-01-11T12:59:15.184769Z",
     "iopub.status.busy": "2025-01-11T12:59:15.184306Z",
     "iopub.status.idle": "2025-01-11T12:59:15.374225Z",
     "shell.execute_reply": "2025-01-11T12:59:15.373243Z"
    },
    "papermill": {
     "duration": 0.205534,
     "end_time": "2025-01-11T12:59:15.376020",
     "exception": false,
     "start_time": "2025-01-11T12:59:15.170486",
     "status": "completed"
    },
    "tags": []
   },
   "outputs": [
    {
     "data": {
      "text/plain": [
       "<Axes: >"
      ]
     },
     "execution_count": 16,
     "metadata": {},
     "output_type": "execute_result"
    },
    {
     "data": {
      "image/png": "[encoded data removed]",
      "text/plain": [
       "<Figure size 640x480 with 1 Axes>"
      ]
     },
     "metadata": {},
     "output_type": "display_data"
    }
   ],
   "source": [
    "df.groupby(['company_size']).agg(\n",
    "    avg_salary_usd = ('salary_in_usd','mean')\n",
    ").reset_index().plot(kind='bar',color='orange')"
   ]
  },
  {
   "cell_type": "markdown",
   "id": "d7ea6744",
   "metadata": {
    "papermill": {
     "duration": 0.012521,
     "end_time": "2025-01-11T12:59:15.401499",
     "exception": false,
     "start_time": "2025-01-11T12:59:15.388978",
     "status": "completed"
    },
    "tags": []
   },
   "source": [
    "### Q6. Growth in Salaries Over Years"
   ]
  },
  {
   "cell_type": "code",
   "execution_count": 17,
   "id": "84ce7573",
   "metadata": {
    "execution": {
     "iopub.execute_input": "2025-01-11T12:59:15.428734Z",
     "iopub.status.busy": "2025-01-11T12:59:15.428288Z",
     "iopub.status.idle": "2025-01-11T12:59:15.444043Z",
     "shell.execute_reply": "2025-01-11T12:59:15.442858Z"
    },
    "papermill": {
     "duration": 0.031518,
     "end_time": "2025-01-11T12:59:15.445902",
     "exception": false,
     "start_time": "2025-01-11T12:59:15.414384",
     "status": "completed"
    },
    "tags": []
   },
   "outputs": [
    {
     "data": {
      "text/html": [
       "<div>\n",
       "<style scoped>\n",
       "    .dataframe tbody tr th:only-of-type {\n",
       "        vertical-align: middle;\n",
       "    }\n",
       "\n",
       "    .dataframe tbody tr th {\n",
       "        vertical-align: top;\n",
       "    }\n",
       "\n",
       "    .dataframe thead th {\n",
       "        text-align: right;\n",
       "    }\n",
       "</style>\n",
       "<table border=\"1\" class=\"dataframe\">\n",
       "  <thead>\n",
       "    <tr style=\"text-align: right;\">\n",
       "      <th></th>\n",
       "      <th>work_year</th>\n",
       "      <th>avg_salary_usd</th>\n",
       "    </tr>\n",
       "  </thead>\n",
       "  <tbody>\n",
       "    <tr>\n",
       "      <th>0</th>\n",
       "      <td>2020</td>\n",
       "      <td>95813.000000</td>\n",
       "    </tr>\n",
       "    <tr>\n",
       "      <th>1</th>\n",
       "      <td>2021</td>\n",
       "      <td>99853.792627</td>\n",
       "    </tr>\n",
       "    <tr>\n",
       "      <th>2</th>\n",
       "      <td>2022</td>\n",
       "      <td>124522.006289</td>\n",
       "    </tr>\n",
       "  </tbody>\n",
       "</table>\n",
       "</div>"
      ],
      "text/plain": [
       "   work_year  avg_salary_usd\n",
       "0       2020    95813.000000\n",
       "1       2021    99853.792627\n",
       "2       2022   124522.006289"
      ]
     },
     "execution_count": 17,
     "metadata": {},
     "output_type": "execute_result"
    }
   ],
   "source": [
    "df.groupby(['work_year']).agg(\n",
    "    avg_salary_usd = ('salary_in_usd','mean')\n",
    ").reset_index()"
   ]
  },
  {
   "cell_type": "code",
   "execution_count": 18,
   "id": "674f47cd",
   "metadata": {
    "execution": {
     "iopub.execute_input": "2025-01-11T12:59:15.473436Z",
     "iopub.status.busy": "2025-01-11T12:59:15.473054Z",
     "iopub.status.idle": "2025-01-11T12:59:15.666687Z",
     "shell.execute_reply": "2025-01-11T12:59:15.665483Z"
    },
    "papermill": {
     "duration": 0.209571,
     "end_time": "2025-01-11T12:59:15.668572",
     "exception": false,
     "start_time": "2025-01-11T12:59:15.459001",
     "status": "completed"
    },
    "tags": []
   },
   "outputs": [
    {
     "data": {
      "image/png": "[encoded data removed]",
      "text/plain": [
       "<Figure size 800x600 with 1 Axes>"
      ]
     },
     "metadata": {},
     "output_type": "display_data"
    }
   ],
   "source": [
    "data = df.groupby(['work_year']).agg(\n",
    "    avg_salary_usd=('salary_in_usd', 'mean')\n",
    ").reset_index()\n",
    "\n",
    "# Plot the data\n",
    "plt.figure(figsize=(8, 6))\n",
    "sns.barplot(data=data, x='work_year', y='avg_salary_usd', palette='bright')\n",
    "\n",
    "# Add bar values\n",
    "for i, v in enumerate(data['avg_salary_usd']):\n",
    "    plt.text(i, v + 500, f\"${v:,.2f}\", ha='center', fontsize=12)\n",
    "\n",
    "# Customize the chart\n",
    "plt.title('Average Salary in USD by Work Year', fontsize=16)\n",
    "plt.xlabel('Work Year', fontsize=14)\n",
    "plt.ylabel('Average Salary (USD)', fontsize=14)\n",
    "plt.xticks(fontsize=12)\n",
    "plt.yticks(fontsize=12)\n",
    "plt.show()\n"
   ]
  },
  {
   "cell_type": "markdown",
   "id": "3a2be526",
   "metadata": {
    "papermill": {
     "duration": 0.013883,
     "end_time": "2025-01-11T12:59:15.697339",
     "exception": false,
     "start_time": "2025-01-11T12:59:15.683456",
     "status": "completed"
    },
    "tags": []
   },
   "source": [
    "### Q7. Remote Ratio by Company Size"
   ]
  },
  {
   "cell_type": "code",
   "execution_count": 19,
   "id": "58cc9737",
   "metadata": {
    "execution": {
     "iopub.execute_input": "2025-01-11T12:59:15.726857Z",
     "iopub.status.busy": "2025-01-11T12:59:15.726472Z",
     "iopub.status.idle": "2025-01-11T12:59:15.740664Z",
     "shell.execute_reply": "2025-01-11T12:59:15.739653Z"
    },
    "papermill": {
     "duration": 0.031246,
     "end_time": "2025-01-11T12:59:15.742532",
     "exception": false,
     "start_time": "2025-01-11T12:59:15.711286",
     "status": "completed"
    },
    "tags": []
   },
   "outputs": [
    {
     "data": {
      "text/html": [
       "<div>\n",
       "<style scoped>\n",
       "    .dataframe tbody tr th:only-of-type {\n",
       "        vertical-align: middle;\n",
       "    }\n",
       "\n",
       "    .dataframe tbody tr th {\n",
       "        vertical-align: top;\n",
       "    }\n",
       "\n",
       "    .dataframe thead th {\n",
       "        text-align: right;\n",
       "    }\n",
       "</style>\n",
       "<table border=\"1\" class=\"dataframe\">\n",
       "  <thead>\n",
       "    <tr style=\"text-align: right;\">\n",
       "      <th></th>\n",
       "      <th>company_size</th>\n",
       "      <th>remote_ratio</th>\n",
       "    </tr>\n",
       "  </thead>\n",
       "  <tbody>\n",
       "    <tr>\n",
       "      <th>0</th>\n",
       "      <td>L</td>\n",
       "      <td>68.686869</td>\n",
       "    </tr>\n",
       "    <tr>\n",
       "      <th>1</th>\n",
       "      <td>M</td>\n",
       "      <td>72.546012</td>\n",
       "    </tr>\n",
       "    <tr>\n",
       "      <th>2</th>\n",
       "      <td>S</td>\n",
       "      <td>69.879518</td>\n",
       "    </tr>\n",
       "  </tbody>\n",
       "</table>\n",
       "</div>"
      ],
      "text/plain": [
       "  company_size  remote_ratio\n",
       "0            L     68.686869\n",
       "1            M     72.546012\n",
       "2            S     69.879518"
      ]
     },
     "execution_count": 19,
     "metadata": {},
     "output_type": "execute_result"
    }
   ],
   "source": [
    "df.groupby(['company_size']).agg(\n",
    "    remote_ratio = ('remote_ratio','mean')\n",
    ").reset_index()"
   ]
  },
  {
   "cell_type": "markdown",
   "id": "44f4eece",
   "metadata": {
    "papermill": {
     "duration": 0.014011,
     "end_time": "2025-01-11T12:59:15.770903",
     "exception": false,
     "start_time": "2025-01-11T12:59:15.756892",
     "status": "completed"
    },
    "tags": []
   },
   "source": [
    "### Q8. Outlier Detection"
   ]
  },
  {
   "cell_type": "code",
   "execution_count": 20,
   "id": "559b1cf6",
   "metadata": {
    "execution": {
     "iopub.execute_input": "2025-01-11T12:59:15.800513Z",
     "iopub.status.busy": "2025-01-11T12:59:15.800101Z",
     "iopub.status.idle": "2025-01-11T12:59:15.821039Z",
     "shell.execute_reply": "2025-01-11T12:59:15.819933Z"
    },
    "papermill": {
     "duration": 0.037751,
     "end_time": "2025-01-11T12:59:15.822719",
     "exception": false,
     "start_time": "2025-01-11T12:59:15.784968",
     "status": "completed"
    },
    "tags": []
   },
   "outputs": [
    {
     "data": {
      "text/html": [
       "<div>\n",
       "<style scoped>\n",
       "    .dataframe tbody tr th:only-of-type {\n",
       "        vertical-align: middle;\n",
       "    }\n",
       "\n",
       "    .dataframe tbody tr th {\n",
       "        vertical-align: top;\n",
       "    }\n",
       "\n",
       "    .dataframe thead th {\n",
       "        text-align: right;\n",
       "    }\n",
       "</style>\n",
       "<table border=\"1\" class=\"dataframe\">\n",
       "  <thead>\n",
       "    <tr style=\"text-align: right;\">\n",
       "      <th></th>\n",
       "      <th>work_year</th>\n",
       "      <th>experience_level</th>\n",
       "      <th>employment_type</th>\n",
       "      <th>job_title</th>\n",
       "      <th>salary_currency</th>\n",
       "      <th>salary_in_usd</th>\n",
       "      <th>employee_residence</th>\n",
       "      <th>remote_ratio</th>\n",
       "      <th>company_location</th>\n",
       "      <th>company_size</th>\n",
       "    </tr>\n",
       "  </thead>\n",
       "  <tbody>\n",
       "    <tr>\n",
       "      <th>25</th>\n",
       "      <td>2020</td>\n",
       "      <td>EX</td>\n",
       "      <td>FT</td>\n",
       "      <td>Director of Data Science</td>\n",
       "      <td>USD</td>\n",
       "      <td>325000</td>\n",
       "      <td>US</td>\n",
       "      <td>100</td>\n",
       "      <td>US</td>\n",
       "      <td>L</td>\n",
       "    </tr>\n",
       "    <tr>\n",
       "      <th>33</th>\n",
       "      <td>2020</td>\n",
       "      <td>MI</td>\n",
       "      <td>FT</td>\n",
       "      <td>Research Scientist</td>\n",
       "      <td>USD</td>\n",
       "      <td>450000</td>\n",
       "      <td>US</td>\n",
       "      <td>0</td>\n",
       "      <td>US</td>\n",
       "      <td>M</td>\n",
       "    </tr>\n",
       "    <tr>\n",
       "      <th>63</th>\n",
       "      <td>2020</td>\n",
       "      <td>SE</td>\n",
       "      <td>FT</td>\n",
       "      <td>Data Scientist</td>\n",
       "      <td>USD</td>\n",
       "      <td>412000</td>\n",
       "      <td>US</td>\n",
       "      <td>100</td>\n",
       "      <td>US</td>\n",
       "      <td>L</td>\n",
       "    </tr>\n",
       "    <tr>\n",
       "      <th>97</th>\n",
       "      <td>2021</td>\n",
       "      <td>MI</td>\n",
       "      <td>FT</td>\n",
       "      <td>Financial Data Analyst</td>\n",
       "      <td>USD</td>\n",
       "      <td>450000</td>\n",
       "      <td>US</td>\n",
       "      <td>100</td>\n",
       "      <td>US</td>\n",
       "      <td>L</td>\n",
       "    </tr>\n",
       "    <tr>\n",
       "      <th>157</th>\n",
       "      <td>2021</td>\n",
       "      <td>MI</td>\n",
       "      <td>FT</td>\n",
       "      <td>Applied Machine Learning Scientist</td>\n",
       "      <td>USD</td>\n",
       "      <td>423000</td>\n",
       "      <td>US</td>\n",
       "      <td>50</td>\n",
       "      <td>US</td>\n",
       "      <td>L</td>\n",
       "    </tr>\n",
       "    <tr>\n",
       "      <th>225</th>\n",
       "      <td>2021</td>\n",
       "      <td>EX</td>\n",
       "      <td>CT</td>\n",
       "      <td>Principal Data Scientist</td>\n",
       "      <td>USD</td>\n",
       "      <td>416000</td>\n",
       "      <td>US</td>\n",
       "      <td>100</td>\n",
       "      <td>US</td>\n",
       "      <td>S</td>\n",
       "    </tr>\n",
       "    <tr>\n",
       "      <th>252</th>\n",
       "      <td>2021</td>\n",
       "      <td>EX</td>\n",
       "      <td>FT</td>\n",
       "      <td>Principal Data Engineer</td>\n",
       "      <td>USD</td>\n",
       "      <td>600000</td>\n",
       "      <td>US</td>\n",
       "      <td>100</td>\n",
       "      <td>US</td>\n",
       "      <td>L</td>\n",
       "    </tr>\n",
       "    <tr>\n",
       "      <th>482</th>\n",
       "      <td>2022</td>\n",
       "      <td>EX</td>\n",
       "      <td>FT</td>\n",
       "      <td>Data Engineer</td>\n",
       "      <td>USD</td>\n",
       "      <td>324000</td>\n",
       "      <td>US</td>\n",
       "      <td>100</td>\n",
       "      <td>US</td>\n",
       "      <td>M</td>\n",
       "    </tr>\n",
       "    <tr>\n",
       "      <th>519</th>\n",
       "      <td>2022</td>\n",
       "      <td>SE</td>\n",
       "      <td>FT</td>\n",
       "      <td>Applied Data Scientist</td>\n",
       "      <td>USD</td>\n",
       "      <td>380000</td>\n",
       "      <td>US</td>\n",
       "      <td>100</td>\n",
       "      <td>US</td>\n",
       "      <td>L</td>\n",
       "    </tr>\n",
       "    <tr>\n",
       "      <th>523</th>\n",
       "      <td>2022</td>\n",
       "      <td>SE</td>\n",
       "      <td>FT</td>\n",
       "      <td>Data Analytics Lead</td>\n",
       "      <td>USD</td>\n",
       "      <td>405000</td>\n",
       "      <td>US</td>\n",
       "      <td>100</td>\n",
       "      <td>US</td>\n",
       "      <td>L</td>\n",
       "    </tr>\n",
       "  </tbody>\n",
       "</table>\n",
       "</div>"
      ],
      "text/plain": [
       "     work_year experience_level employment_type  \\\n",
       "25        2020               EX              FT   \n",
       "33        2020               MI              FT   \n",
       "63        2020               SE              FT   \n",
       "97        2021               MI              FT   \n",
       "157       2021               MI              FT   \n",
       "225       2021               EX              CT   \n",
       "252       2021               EX              FT   \n",
       "482       2022               EX              FT   \n",
       "519       2022               SE              FT   \n",
       "523       2022               SE              FT   \n",
       "\n",
       "                              job_title salary_currency  salary_in_usd  \\\n",
       "25             Director of Data Science             USD         325000   \n",
       "33                   Research Scientist             USD         450000   \n",
       "63                       Data Scientist             USD         412000   \n",
       "97               Financial Data Analyst             USD         450000   \n",
       "157  Applied Machine Learning Scientist             USD         423000   \n",
       "225            Principal Data Scientist             USD         416000   \n",
       "252             Principal Data Engineer             USD         600000   \n",
       "482                       Data Engineer             USD         324000   \n",
       "519              Applied Data Scientist             USD         380000   \n",
       "523                 Data Analytics Lead             USD         405000   \n",
       "\n",
       "    employee_residence  remote_ratio company_location company_size  \n",
       "25                  US           100               US            L  \n",
       "33                  US             0               US            M  \n",
       "63                  US           100               US            L  \n",
       "97                  US           100               US            L  \n",
       "157                 US            50               US            L  \n",
       "225                 US           100               US            S  \n",
       "252                 US           100               US            L  \n",
       "482                 US           100               US            M  \n",
       "519                 US           100               US            L  \n",
       "523                 US           100               US            L  "
      ]
     },
     "execution_count": 20,
     "metadata": {},
     "output_type": "execute_result"
    }
   ],
   "source": [
    "Q1 = df['salary_in_usd'].quantile(0.25)\n",
    "Q3 = df['salary_in_usd'].quantile(0.75)\n",
    "IQR = Q3 - Q1\n",
    "outliers = df[(df['salary_in_usd'] < Q1 - 1.5 * IQR) | \n",
    "                        (df['salary_in_usd'] > Q3 + 1.5 * IQR)]\n",
    "\n",
    "outliers"
   ]
  },
  {
   "cell_type": "markdown",
   "id": "51aa346c",
   "metadata": {
    "papermill": {
     "duration": 0.01399,
     "end_time": "2025-01-11T12:59:15.851177",
     "exception": false,
     "start_time": "2025-01-11T12:59:15.837187",
     "status": "completed"
    },
    "tags": []
   },
   "source": [
    "### Q9. Top 5 Highest Paid Job Titles"
   ]
  },
  {
   "cell_type": "code",
   "execution_count": 21,
   "id": "5595aa10",
   "metadata": {
    "execution": {
     "iopub.execute_input": "2025-01-11T12:59:15.881593Z",
     "iopub.status.busy": "2025-01-11T12:59:15.881175Z",
     "iopub.status.idle": "2025-01-11T12:59:15.894706Z",
     "shell.execute_reply": "2025-01-11T12:59:15.893687Z"
    },
    "papermill": {
     "duration": 0.031134,
     "end_time": "2025-01-11T12:59:15.896527",
     "exception": false,
     "start_time": "2025-01-11T12:59:15.865393",
     "status": "completed"
    },
    "tags": []
   },
   "outputs": [
    {
     "data": {
      "text/html": [
       "<div>\n",
       "<style scoped>\n",
       "    .dataframe tbody tr th:only-of-type {\n",
       "        vertical-align: middle;\n",
       "    }\n",
       "\n",
       "    .dataframe tbody tr th {\n",
       "        vertical-align: top;\n",
       "    }\n",
       "\n",
       "    .dataframe thead th {\n",
       "        text-align: right;\n",
       "    }\n",
       "</style>\n",
       "<table border=\"1\" class=\"dataframe\">\n",
       "  <thead>\n",
       "    <tr style=\"text-align: right;\">\n",
       "      <th></th>\n",
       "      <th>Job Title</th>\n",
       "      <th>Average Salary (USD)</th>\n",
       "    </tr>\n",
       "  </thead>\n",
       "  <tbody>\n",
       "    <tr>\n",
       "      <th>0</th>\n",
       "      <td>Data Analytics Lead</td>\n",
       "      <td>405000.00</td>\n",
       "    </tr>\n",
       "    <tr>\n",
       "      <th>1</th>\n",
       "      <td>Principal Data Engineer</td>\n",
       "      <td>328333.33</td>\n",
       "    </tr>\n",
       "    <tr>\n",
       "      <th>2</th>\n",
       "      <td>Financial Data Analyst</td>\n",
       "      <td>275000.00</td>\n",
       "    </tr>\n",
       "    <tr>\n",
       "      <th>3</th>\n",
       "      <td>Principal Data Scientist</td>\n",
       "      <td>215242.43</td>\n",
       "    </tr>\n",
       "    <tr>\n",
       "      <th>4</th>\n",
       "      <td>Director of Data Science</td>\n",
       "      <td>195074.00</td>\n",
       "    </tr>\n",
       "  </tbody>\n",
       "</table>\n",
       "</div>"
      ],
      "text/plain": [
       "                  Job Title  Average Salary (USD)\n",
       "0       Data Analytics Lead             405000.00\n",
       "1   Principal Data Engineer             328333.33\n",
       "2    Financial Data Analyst             275000.00\n",
       "3  Principal Data Scientist             215242.43\n",
       "4  Director of Data Science             195074.00"
      ]
     },
     "execution_count": 21,
     "metadata": {},
     "output_type": "execute_result"
    }
   ],
   "source": [
    "result = (\n",
    "    df.groupby('job_title')['salary_in_usd']\n",
    "    .mean()\n",
    "    .nlargest(5)\n",
    "    .reset_index()\n",
    "    .rename(columns={'job_title': 'Job Title', 'salary_in_usd': 'Average Salary (USD)'})\n",
    ")\n",
    "\n",
    "# Round avg_salary to 2 decimal places\n",
    "result['Average Salary (USD)'] = result['Average Salary (USD)'].round(2)\n",
    "result"
   ]
  },
  {
   "cell_type": "markdown",
   "id": "81e8e3e1",
   "metadata": {
    "papermill": {
     "duration": 0.014628,
     "end_time": "2025-01-11T12:59:15.925886",
     "exception": false,
     "start_time": "2025-01-11T12:59:15.911258",
     "status": "completed"
    },
    "tags": []
   },
   "source": [
    "### Q10. Salary Comparison Between Remote and On-site Employees\n"
   ]
  },
  {
   "cell_type": "code",
   "execution_count": 22,
   "id": "fea94e35",
   "metadata": {
    "execution": {
     "iopub.execute_input": "2025-01-11T12:59:15.956577Z",
     "iopub.status.busy": "2025-01-11T12:59:15.956184Z",
     "iopub.status.idle": "2025-01-11T12:59:15.963931Z",
     "shell.execute_reply": "2025-01-11T12:59:15.962641Z"
    },
    "papermill": {
     "duration": 0.025186,
     "end_time": "2025-01-11T12:59:15.965626",
     "exception": false,
     "start_time": "2025-01-11T12:59:15.940440",
     "status": "completed"
    },
    "tags": []
   },
   "outputs": [
    {
     "name": "stdout",
     "output_type": "stream",
     "text": [
      "Remote Salary: 113870.35416666667\n",
      "On-site Salary: 106354.62204724409\n"
     ]
    }
   ],
   "source": [
    "remote_salary = df[df['remote_ratio'] > 0]['salary_in_usd'].mean()\n",
    "onsite_salary = df[df['remote_ratio'] == 0]['salary_in_usd'].mean()\n",
    "print(f\"Remote Salary: {remote_salary}\\nOn-site Salary: {onsite_salary}\")"
   ]
  },
  {
   "cell_type": "markdown",
   "id": "73f59000",
   "metadata": {
    "papermill": {
     "duration": 0.014786,
     "end_time": "2025-01-11T12:59:15.995165",
     "exception": false,
     "start_time": "2025-01-11T12:59:15.980379",
     "status": "completed"
    },
    "tags": []
   },
   "source": [
    "## Prepare Data for ML/DL Models"
   ]
  },
  {
   "cell_type": "code",
   "execution_count": 23,
   "id": "bf2752a8",
   "metadata": {
    "execution": {
     "iopub.execute_input": "2025-01-11T12:59:16.025617Z",
     "iopub.status.busy": "2025-01-11T12:59:16.025186Z",
     "iopub.status.idle": "2025-01-11T12:59:16.038000Z",
     "shell.execute_reply": "2025-01-11T12:59:16.036856Z"
    },
    "papermill": {
     "duration": 0.030017,
     "end_time": "2025-01-11T12:59:16.039923",
     "exception": false,
     "start_time": "2025-01-11T12:59:16.009906",
     "status": "completed"
    },
    "tags": []
   },
   "outputs": [
    {
     "data": {
      "text/html": [
       "<div>\n",
       "<style scoped>\n",
       "    .dataframe tbody tr th:only-of-type {\n",
       "        vertical-align: middle;\n",
       "    }\n",
       "\n",
       "    .dataframe tbody tr th {\n",
       "        vertical-align: top;\n",
       "    }\n",
       "\n",
       "    .dataframe thead th {\n",
       "        text-align: right;\n",
       "    }\n",
       "</style>\n",
       "<table border=\"1\" class=\"dataframe\">\n",
       "  <thead>\n",
       "    <tr style=\"text-align: right;\">\n",
       "      <th></th>\n",
       "      <th>work_year</th>\n",
       "      <th>experience_level</th>\n",
       "      <th>employment_type</th>\n",
       "      <th>job_title</th>\n",
       "      <th>salary_currency</th>\n",
       "      <th>salary_in_usd</th>\n",
       "      <th>employee_residence</th>\n",
       "      <th>remote_ratio</th>\n",
       "      <th>company_location</th>\n",
       "      <th>company_size</th>\n",
       "    </tr>\n",
       "  </thead>\n",
       "  <tbody>\n",
       "    <tr>\n",
       "      <th>0</th>\n",
       "      <td>2020</td>\n",
       "      <td>MI</td>\n",
       "      <td>FT</td>\n",
       "      <td>Data Scientist</td>\n",
       "      <td>EUR</td>\n",
       "      <td>79833</td>\n",
       "      <td>DE</td>\n",
       "      <td>0</td>\n",
       "      <td>DE</td>\n",
       "      <td>L</td>\n",
       "    </tr>\n",
       "    <tr>\n",
       "      <th>1</th>\n",
       "      <td>2020</td>\n",
       "      <td>SE</td>\n",
       "      <td>FT</td>\n",
       "      <td>Machine Learning Scientist</td>\n",
       "      <td>USD</td>\n",
       "      <td>260000</td>\n",
       "      <td>JP</td>\n",
       "      <td>0</td>\n",
       "      <td>JP</td>\n",
       "      <td>S</td>\n",
       "    </tr>\n",
       "    <tr>\n",
       "      <th>2</th>\n",
       "      <td>2020</td>\n",
       "      <td>SE</td>\n",
       "      <td>FT</td>\n",
       "      <td>Big Data Engineer</td>\n",
       "      <td>GBP</td>\n",
       "      <td>109024</td>\n",
       "      <td>GB</td>\n",
       "      <td>50</td>\n",
       "      <td>GB</td>\n",
       "      <td>M</td>\n",
       "    </tr>\n",
       "    <tr>\n",
       "      <th>3</th>\n",
       "      <td>2020</td>\n",
       "      <td>MI</td>\n",
       "      <td>FT</td>\n",
       "      <td>Product Data Analyst</td>\n",
       "      <td>USD</td>\n",
       "      <td>20000</td>\n",
       "      <td>HN</td>\n",
       "      <td>0</td>\n",
       "      <td>HN</td>\n",
       "      <td>S</td>\n",
       "    </tr>\n",
       "    <tr>\n",
       "      <th>4</th>\n",
       "      <td>2020</td>\n",
       "      <td>SE</td>\n",
       "      <td>FT</td>\n",
       "      <td>Machine Learning Engineer</td>\n",
       "      <td>USD</td>\n",
       "      <td>150000</td>\n",
       "      <td>US</td>\n",
       "      <td>50</td>\n",
       "      <td>US</td>\n",
       "      <td>L</td>\n",
       "    </tr>\n",
       "  </tbody>\n",
       "</table>\n",
       "</div>"
      ],
      "text/plain": [
       "   work_year experience_level employment_type                   job_title  \\\n",
       "0       2020               MI              FT              Data Scientist   \n",
       "1       2020               SE              FT  Machine Learning Scientist   \n",
       "2       2020               SE              FT           Big Data Engineer   \n",
       "3       2020               MI              FT        Product Data Analyst   \n",
       "4       2020               SE              FT   Machine Learning Engineer   \n",
       "\n",
       "  salary_currency  salary_in_usd employee_residence  remote_ratio  \\\n",
       "0             EUR          79833                 DE             0   \n",
       "1             USD         260000                 JP             0   \n",
       "2             GBP         109024                 GB            50   \n",
       "3             USD          20000                 HN             0   \n",
       "4             USD         150000                 US            50   \n",
       "\n",
       "  company_location company_size  \n",
       "0               DE            L  \n",
       "1               JP            S  \n",
       "2               GB            M  \n",
       "3               HN            S  \n",
       "4               US            L  "
      ]
     },
     "execution_count": 23,
     "metadata": {},
     "output_type": "execute_result"
    }
   ],
   "source": [
    "df1 = df.copy()\n",
    "df1.head()"
   ]
  },
  {
   "cell_type": "code",
   "execution_count": 24,
   "id": "390d19f6",
   "metadata": {
    "execution": {
     "iopub.execute_input": "2025-01-11T12:59:16.071649Z",
     "iopub.status.busy": "2025-01-11T12:59:16.071253Z",
     "iopub.status.idle": "2025-01-11T12:59:16.080622Z",
     "shell.execute_reply": "2025-01-11T12:59:16.079445Z"
    },
    "papermill": {
     "duration": 0.027231,
     "end_time": "2025-01-11T12:59:16.082247",
     "exception": false,
     "start_time": "2025-01-11T12:59:16.055016",
     "status": "completed"
    },
    "tags": []
   },
   "outputs": [
    {
     "data": {
      "text/plain": [
       "work_year               3\n",
       "experience_level        4\n",
       "employment_type         4\n",
       "job_title              50\n",
       "salary_currency        17\n",
       "salary_in_usd         369\n",
       "employee_residence     57\n",
       "remote_ratio            3\n",
       "company_location       50\n",
       "company_size            3\n",
       "dtype: int64"
      ]
     },
     "execution_count": 24,
     "metadata": {},
     "output_type": "execute_result"
    }
   ],
   "source": [
    "df1.nunique()"
   ]
  },
  {
   "cell_type": "markdown",
   "id": "1c7a26c0",
   "metadata": {
    "papermill": {
     "duration": 0.014431,
     "end_time": "2025-01-11T12:59:16.112181",
     "exception": false,
     "start_time": "2025-01-11T12:59:16.097750",
     "status": "completed"
    },
    "tags": []
   },
   "source": [
    "### Encoding Categorical Variables"
   ]
  },
  {
   "cell_type": "code",
   "execution_count": 25,
   "id": "85cadebc",
   "metadata": {
    "execution": {
     "iopub.execute_input": "2025-01-11T12:59:16.142816Z",
     "iopub.status.busy": "2025-01-11T12:59:16.142420Z",
     "iopub.status.idle": "2025-01-11T12:59:16.154681Z",
     "shell.execute_reply": "2025-01-11T12:59:16.153755Z"
    },
    "papermill": {
     "duration": 0.029331,
     "end_time": "2025-01-11T12:59:16.156266",
     "exception": false,
     "start_time": "2025-01-11T12:59:16.126935",
     "status": "completed"
    },
    "tags": []
   },
   "outputs": [
    {
     "data": {
      "text/html": [
       "<div>\n",
       "<style scoped>\n",
       "    .dataframe tbody tr th:only-of-type {\n",
       "        vertical-align: middle;\n",
       "    }\n",
       "\n",
       "    .dataframe tbody tr th {\n",
       "        vertical-align: top;\n",
       "    }\n",
       "\n",
       "    .dataframe thead th {\n",
       "        text-align: right;\n",
       "    }\n",
       "</style>\n",
       "<table border=\"1\" class=\"dataframe\">\n",
       "  <thead>\n",
       "    <tr style=\"text-align: right;\">\n",
       "      <th></th>\n",
       "      <th>work_year</th>\n",
       "      <th>experience_level</th>\n",
       "      <th>employment_type</th>\n",
       "      <th>job_title</th>\n",
       "      <th>salary_in_usd</th>\n",
       "      <th>employee_residence</th>\n",
       "      <th>remote_ratio</th>\n",
       "      <th>company_location</th>\n",
       "      <th>company_size</th>\n",
       "    </tr>\n",
       "  </thead>\n",
       "  <tbody>\n",
       "    <tr>\n",
       "      <th>0</th>\n",
       "      <td>2020</td>\n",
       "      <td>MI</td>\n",
       "      <td>FT</td>\n",
       "      <td>Data Scientist</td>\n",
       "      <td>79833</td>\n",
       "      <td>DE</td>\n",
       "      <td>0</td>\n",
       "      <td>DE</td>\n",
       "      <td>L</td>\n",
       "    </tr>\n",
       "    <tr>\n",
       "      <th>1</th>\n",
       "      <td>2020</td>\n",
       "      <td>SE</td>\n",
       "      <td>FT</td>\n",
       "      <td>Machine Learning Scientist</td>\n",
       "      <td>260000</td>\n",
       "      <td>JP</td>\n",
       "      <td>0</td>\n",
       "      <td>JP</td>\n",
       "      <td>S</td>\n",
       "    </tr>\n",
       "    <tr>\n",
       "      <th>2</th>\n",
       "      <td>2020</td>\n",
       "      <td>SE</td>\n",
       "      <td>FT</td>\n",
       "      <td>Big Data Engineer</td>\n",
       "      <td>109024</td>\n",
       "      <td>GB</td>\n",
       "      <td>50</td>\n",
       "      <td>GB</td>\n",
       "      <td>M</td>\n",
       "    </tr>\n",
       "    <tr>\n",
       "      <th>3</th>\n",
       "      <td>2020</td>\n",
       "      <td>MI</td>\n",
       "      <td>FT</td>\n",
       "      <td>Product Data Analyst</td>\n",
       "      <td>20000</td>\n",
       "      <td>HN</td>\n",
       "      <td>0</td>\n",
       "      <td>HN</td>\n",
       "      <td>S</td>\n",
       "    </tr>\n",
       "    <tr>\n",
       "      <th>4</th>\n",
       "      <td>2020</td>\n",
       "      <td>SE</td>\n",
       "      <td>FT</td>\n",
       "      <td>Machine Learning Engineer</td>\n",
       "      <td>150000</td>\n",
       "      <td>US</td>\n",
       "      <td>50</td>\n",
       "      <td>US</td>\n",
       "      <td>L</td>\n",
       "    </tr>\n",
       "  </tbody>\n",
       "</table>\n",
       "</div>"
      ],
      "text/plain": [
       "   work_year experience_level employment_type                   job_title  \\\n",
       "0       2020               MI              FT              Data Scientist   \n",
       "1       2020               SE              FT  Machine Learning Scientist   \n",
       "2       2020               SE              FT           Big Data Engineer   \n",
       "3       2020               MI              FT        Product Data Analyst   \n",
       "4       2020               SE              FT   Machine Learning Engineer   \n",
       "\n",
       "   salary_in_usd employee_residence  remote_ratio company_location  \\\n",
       "0          79833                 DE             0               DE   \n",
       "1         260000                 JP             0               JP   \n",
       "2         109024                 GB            50               GB   \n",
       "3          20000                 HN             0               HN   \n",
       "4         150000                 US            50               US   \n",
       "\n",
       "  company_size  \n",
       "0            L  \n",
       "1            S  \n",
       "2            M  \n",
       "3            S  \n",
       "4            L  "
      ]
     },
     "execution_count": 25,
     "metadata": {},
     "output_type": "execute_result"
    }
   ],
   "source": [
    "# Dropping currencies col.\n",
    "df1.drop(columns=['salary_currency'],inplace=True)\n",
    "df1.head()"
   ]
  },
  {
   "cell_type": "code",
   "execution_count": 26,
   "id": "88c78466",
   "metadata": {
    "execution": {
     "iopub.execute_input": "2025-01-11T12:59:16.188328Z",
     "iopub.status.busy": "2025-01-11T12:59:16.187999Z",
     "iopub.status.idle": "2025-01-11T12:59:16.361856Z",
     "shell.execute_reply": "2025-01-11T12:59:16.360878Z"
    },
    "papermill": {
     "duration": 0.191548,
     "end_time": "2025-01-11T12:59:16.363441",
     "exception": false,
     "start_time": "2025-01-11T12:59:16.171893",
     "status": "completed"
    },
    "tags": []
   },
   "outputs": [
    {
     "data": {
      "text/html": [
       "<div>\n",
       "<style scoped>\n",
       "    .dataframe tbody tr th:only-of-type {\n",
       "        vertical-align: middle;\n",
       "    }\n",
       "\n",
       "    .dataframe tbody tr th {\n",
       "        vertical-align: top;\n",
       "    }\n",
       "\n",
       "    .dataframe thead th {\n",
       "        text-align: right;\n",
       "    }\n",
       "</style>\n",
       "<table border=\"1\" class=\"dataframe\">\n",
       "  <thead>\n",
       "    <tr style=\"text-align: right;\">\n",
       "      <th></th>\n",
       "      <th>work_year</th>\n",
       "      <th>job_title</th>\n",
       "      <th>salary_in_usd</th>\n",
       "      <th>employee_residence</th>\n",
       "      <th>remote_ratio</th>\n",
       "      <th>company_location</th>\n",
       "      <th>employment_type_CT</th>\n",
       "      <th>employment_type_FL</th>\n",
       "      <th>employment_type_FT</th>\n",
       "      <th>employment_type_PT</th>\n",
       "      <th>experience_level_EN</th>\n",
       "      <th>experience_level_EX</th>\n",
       "      <th>experience_level_MI</th>\n",
       "      <th>experience_level_SE</th>\n",
       "      <th>company_size_L</th>\n",
       "      <th>company_size_M</th>\n",
       "      <th>company_size_S</th>\n",
       "    </tr>\n",
       "  </thead>\n",
       "  <tbody>\n",
       "    <tr>\n",
       "      <th>0</th>\n",
       "      <td>2020</td>\n",
       "      <td>22</td>\n",
       "      <td>79833</td>\n",
       "      <td>14</td>\n",
       "      <td>0</td>\n",
       "      <td>12</td>\n",
       "      <td>False</td>\n",
       "      <td>False</td>\n",
       "      <td>True</td>\n",
       "      <td>False</td>\n",
       "      <td>False</td>\n",
       "      <td>False</td>\n",
       "      <td>True</td>\n",
       "      <td>False</td>\n",
       "      <td>True</td>\n",
       "      <td>False</td>\n",
       "      <td>False</td>\n",
       "    </tr>\n",
       "    <tr>\n",
       "      <th>1</th>\n",
       "      <td>2020</td>\n",
       "      <td>41</td>\n",
       "      <td>260000</td>\n",
       "      <td>32</td>\n",
       "      <td>0</td>\n",
       "      <td>29</td>\n",
       "      <td>False</td>\n",
       "      <td>False</td>\n",
       "      <td>True</td>\n",
       "      <td>False</td>\n",
       "      <td>False</td>\n",
       "      <td>False</td>\n",
       "      <td>False</td>\n",
       "      <td>True</td>\n",
       "      <td>False</td>\n",
       "      <td>False</td>\n",
       "      <td>True</td>\n",
       "    </tr>\n",
       "    <tr>\n",
       "      <th>2</th>\n",
       "      <td>2020</td>\n",
       "      <td>7</td>\n",
       "      <td>109024</td>\n",
       "      <td>20</td>\n",
       "      <td>50</td>\n",
       "      <td>18</td>\n",
       "      <td>False</td>\n",
       "      <td>False</td>\n",
       "      <td>True</td>\n",
       "      <td>False</td>\n",
       "      <td>False</td>\n",
       "      <td>False</td>\n",
       "      <td>False</td>\n",
       "      <td>True</td>\n",
       "      <td>False</td>\n",
       "      <td>True</td>\n",
       "      <td>False</td>\n",
       "    </tr>\n",
       "    <tr>\n",
       "      <th>3</th>\n",
       "      <td>2020</td>\n",
       "      <td>47</td>\n",
       "      <td>20000</td>\n",
       "      <td>23</td>\n",
       "      <td>0</td>\n",
       "      <td>20</td>\n",
       "      <td>False</td>\n",
       "      <td>False</td>\n",
       "      <td>True</td>\n",
       "      <td>False</td>\n",
       "      <td>False</td>\n",
       "      <td>False</td>\n",
       "      <td>True</td>\n",
       "      <td>False</td>\n",
       "      <td>False</td>\n",
       "      <td>False</td>\n",
       "      <td>True</td>\n",
       "    </tr>\n",
       "    <tr>\n",
       "      <th>4</th>\n",
       "      <td>2020</td>\n",
       "      <td>38</td>\n",
       "      <td>150000</td>\n",
       "      <td>55</td>\n",
       "      <td>50</td>\n",
       "      <td>48</td>\n",
       "      <td>False</td>\n",
       "      <td>False</td>\n",
       "      <td>True</td>\n",
       "      <td>False</td>\n",
       "      <td>False</td>\n",
       "      <td>False</td>\n",
       "      <td>False</td>\n",
       "      <td>True</td>\n",
       "      <td>True</td>\n",
       "      <td>False</td>\n",
       "      <td>False</td>\n",
       "    </tr>\n",
       "  </tbody>\n",
       "</table>\n",
       "</div>"
      ],
      "text/plain": [
       "   work_year  job_title  salary_in_usd  employee_residence  remote_ratio  \\\n",
       "0       2020         22          79833                  14             0   \n",
       "1       2020         41         260000                  32             0   \n",
       "2       2020          7         109024                  20            50   \n",
       "3       2020         47          20000                  23             0   \n",
       "4       2020         38         150000                  55            50   \n",
       "\n",
       "   company_location  employment_type_CT  employment_type_FL  \\\n",
       "0                12               False               False   \n",
       "1                29               False               False   \n",
       "2                18               False               False   \n",
       "3                20               False               False   \n",
       "4                48               False               False   \n",
       "\n",
       "   employment_type_FT  employment_type_PT  experience_level_EN  \\\n",
       "0                True               False                False   \n",
       "1                True               False                False   \n",
       "2                True               False                False   \n",
       "3                True               False                False   \n",
       "4                True               False                False   \n",
       "\n",
       "   experience_level_EX  experience_level_MI  experience_level_SE  \\\n",
       "0                False                 True                False   \n",
       "1                False                False                 True   \n",
       "2                False                False                 True   \n",
       "3                False                 True                False   \n",
       "4                False                False                 True   \n",
       "\n",
       "   company_size_L  company_size_M  company_size_S  \n",
       "0            True           False           False  \n",
       "1           False           False            True  \n",
       "2           False            True           False  \n",
       "3           False           False            True  \n",
       "4            True           False           False  "
      ]
     },
     "execution_count": 26,
     "metadata": {},
     "output_type": "execute_result"
    }
   ],
   "source": [
    "from sklearn.preprocessing import OneHotEncoder, LabelEncoder\n",
    "\n",
    "# One-hot encoding for employment_type, experience_level, company_size\n",
    "df1 = pd.get_dummies(df1, columns=['employment_type', 'experience_level', 'company_size'])\n",
    "\n",
    "# Label encoding for job_title, employee_residence, company_location\n",
    "le_job_title = LabelEncoder()\n",
    "df1['job_title'] = le_job_title.fit_transform(df1['job_title'])\n",
    "\n",
    "le_employee_residence = LabelEncoder()\n",
    "df1['employee_residence'] = le_employee_residence.fit_transform(df1['employee_residence'])\n",
    "\n",
    "le_company_location = LabelEncoder()\n",
    "df1['company_location'] = le_company_location.fit_transform(df1['company_location'])\n",
    "\n",
    "df1.head()"
   ]
  },
  {
   "cell_type": "markdown",
   "id": "fb6cc253",
   "metadata": {
    "papermill": {
     "duration": 0.01488,
     "end_time": "2025-01-11T12:59:16.393667",
     "exception": false,
     "start_time": "2025-01-11T12:59:16.378787",
     "status": "completed"
    },
    "tags": []
   },
   "source": [
    "## Salary Prediction (Regression Model)"
   ]
  },
  {
   "cell_type": "code",
   "execution_count": 27,
   "id": "36163ec6",
   "metadata": {
    "execution": {
     "iopub.execute_input": "2025-01-11T12:59:16.425075Z",
     "iopub.status.busy": "2025-01-11T12:59:16.424699Z",
     "iopub.status.idle": "2025-01-11T12:59:19.463914Z",
     "shell.execute_reply": "2025-01-11T12:59:19.462740Z"
    },
    "papermill": {
     "duration": 3.057057,
     "end_time": "2025-01-11T12:59:19.465821",
     "exception": false,
     "start_time": "2025-01-11T12:59:16.408764",
     "status": "completed"
    },
    "tags": []
   },
   "outputs": [],
   "source": [
    "from sklearn.model_selection import train_test_split,StratifiedKFold\n",
    "from sklearn.metrics import  log_loss\n",
    "\n",
    "from sklearn.ensemble import VotingRegressor\n",
    "from sklearn.ensemble import RandomForestRegressor\n",
    "from xgboost import XGBRegressor\n",
    "from lightgbm import LGBMRegressor\n",
    "\n",
    "from sklearn.compose import ColumnTransformer\n",
    "from sklearn.pipeline import Pipeline\n",
    "from sklearn.preprocessing import PowerTransformer, StandardScaler, OneHotEncoder\n",
    "from sklearn.ensemble import StackingRegressor\n",
    "from sklearn.linear_model import LinearRegression\n",
    "from sklearn.metrics import r2_score"
   ]
  },
  {
   "cell_type": "code",
   "execution_count": 28,
   "id": "cebda07d",
   "metadata": {
    "execution": {
     "iopub.execute_input": "2025-01-11T12:59:19.498339Z",
     "iopub.status.busy": "2025-01-11T12:59:19.497652Z",
     "iopub.status.idle": "2025-01-11T12:59:19.509153Z",
     "shell.execute_reply": "2025-01-11T12:59:19.507935Z"
    },
    "papermill": {
     "duration": 0.029241,
     "end_time": "2025-01-11T12:59:19.510678",
     "exception": false,
     "start_time": "2025-01-11T12:59:19.481437",
     "status": "completed"
    },
    "tags": []
   },
   "outputs": [
    {
     "name": "stdout",
     "output_type": "stream",
     "text": [
      "Dataframe shape with Outliers:  (607, 10)\n",
      "Dataframe shape without Outliers (597, 17)\n"
     ]
    }
   ],
   "source": [
    "# Calculate the IQR (Interquartile Range)\n",
    "Q1 = df1['salary_in_usd'].quantile(0.25)\n",
    "Q3 = df1['salary_in_usd'].quantile(0.75)\n",
    "IQR = Q3 - Q1\n",
    "\n",
    "# Filter out the outliers\n",
    "df1 = df1[(df1['salary_in_usd'] >= Q1 - 1.5 * IQR) & \n",
    "                (df1['salary_in_usd'] <= Q3 + 1.5 * IQR)]\n",
    "\n",
    "print(\"Dataframe shape with Outliers: \",df.shape)\n",
    "print(\"Dataframe shape without Outliers\",df1.shape) # 10 values removed"
   ]
  },
  {
   "cell_type": "markdown",
   "id": "e5c13c8e",
   "metadata": {
    "papermill": {
     "duration": 0.015062,
     "end_time": "2025-01-11T12:59:19.541497",
     "exception": false,
     "start_time": "2025-01-11T12:59:19.526435",
     "status": "completed"
    },
    "tags": []
   },
   "source": [
    "### Creating New Feature (to improve Model's Performance)\n",
    "* `residence_salary_ratio`: The ratio of employee residence and salary (Improved the model's performance from a r2 score of 40-50 to 90+ "
   ]
  },
  {
   "cell_type": "code",
   "execution_count": 29,
   "id": "515c7f0f",
   "metadata": {
    "execution": {
     "iopub.execute_input": "2025-01-11T12:59:19.573695Z",
     "iopub.status.busy": "2025-01-11T12:59:19.573244Z",
     "iopub.status.idle": "2025-01-11T12:59:19.578820Z",
     "shell.execute_reply": "2025-01-11T12:59:19.577744Z"
    },
    "papermill": {
     "duration": 0.023642,
     "end_time": "2025-01-11T12:59:19.580470",
     "exception": false,
     "start_time": "2025-01-11T12:59:19.556828",
     "status": "completed"
    },
    "tags": []
   },
   "outputs": [],
   "source": [
    "df1['residence_salary_ratio'] = df1['salary_in_usd'] / (df1['employee_residence'] + 1)"
   ]
  },
  {
   "cell_type": "code",
   "execution_count": 30,
   "id": "b1049870",
   "metadata": {
    "execution": {
     "iopub.execute_input": "2025-01-11T12:59:19.612563Z",
     "iopub.status.busy": "2025-01-11T12:59:19.612135Z",
     "iopub.status.idle": "2025-01-11T12:59:19.617576Z",
     "shell.execute_reply": "2025-01-11T12:59:19.616629Z"
    },
    "papermill": {
     "duration": 0.023079,
     "end_time": "2025-01-11T12:59:19.619092",
     "exception": false,
     "start_time": "2025-01-11T12:59:19.596013",
     "status": "completed"
    },
    "tags": []
   },
   "outputs": [],
   "source": [
    "X = df1.drop(columns=['salary_in_usd'])\n",
    "y = df1['salary_in_usd']"
   ]
  },
  {
   "cell_type": "code",
   "execution_count": 31,
   "id": "50cc82ed",
   "metadata": {
    "execution": {
     "iopub.execute_input": "2025-01-11T12:59:19.651459Z",
     "iopub.status.busy": "2025-01-11T12:59:19.651073Z",
     "iopub.status.idle": "2025-01-11T12:59:19.670410Z",
     "shell.execute_reply": "2025-01-11T12:59:19.669299Z"
    },
    "papermill": {
     "duration": 0.037544,
     "end_time": "2025-01-11T12:59:19.672155",
     "exception": false,
     "start_time": "2025-01-11T12:59:19.634611",
     "status": "completed"
    },
    "tags": []
   },
   "outputs": [
    {
     "data": {
      "text/html": [
       "<div>\n",
       "<style scoped>\n",
       "    .dataframe tbody tr th:only-of-type {\n",
       "        vertical-align: middle;\n",
       "    }\n",
       "\n",
       "    .dataframe tbody tr th {\n",
       "        vertical-align: top;\n",
       "    }\n",
       "\n",
       "    .dataframe thead th {\n",
       "        text-align: right;\n",
       "    }\n",
       "</style>\n",
       "<table border=\"1\" class=\"dataframe\">\n",
       "  <thead>\n",
       "    <tr style=\"text-align: right;\">\n",
       "      <th></th>\n",
       "      <th>work_year</th>\n",
       "      <th>job_title</th>\n",
       "      <th>employee_residence</th>\n",
       "      <th>remote_ratio</th>\n",
       "      <th>company_location</th>\n",
       "      <th>employment_type_CT</th>\n",
       "      <th>employment_type_FL</th>\n",
       "      <th>employment_type_FT</th>\n",
       "      <th>employment_type_PT</th>\n",
       "      <th>experience_level_EN</th>\n",
       "      <th>experience_level_EX</th>\n",
       "      <th>experience_level_MI</th>\n",
       "      <th>experience_level_SE</th>\n",
       "      <th>company_size_L</th>\n",
       "      <th>company_size_M</th>\n",
       "      <th>company_size_S</th>\n",
       "      <th>residence_salary_ratio</th>\n",
       "    </tr>\n",
       "  </thead>\n",
       "  <tbody>\n",
       "    <tr>\n",
       "      <th>9</th>\n",
       "      <td>2020</td>\n",
       "      <td>33</td>\n",
       "      <td>41</td>\n",
       "      <td>50</td>\n",
       "      <td>38</td>\n",
       "      <td>False</td>\n",
       "      <td>False</td>\n",
       "      <td>True</td>\n",
       "      <td>False</td>\n",
       "      <td>False</td>\n",
       "      <td>False</td>\n",
       "      <td>False</td>\n",
       "      <td>True</td>\n",
       "      <td>False</td>\n",
       "      <td>False</td>\n",
       "      <td>True</td>\n",
       "      <td>2976.190476</td>\n",
       "    </tr>\n",
       "    <tr>\n",
       "      <th>556</th>\n",
       "      <td>2022</td>\n",
       "      <td>17</td>\n",
       "      <td>55</td>\n",
       "      <td>100</td>\n",
       "      <td>48</td>\n",
       "      <td>False</td>\n",
       "      <td>False</td>\n",
       "      <td>True</td>\n",
       "      <td>False</td>\n",
       "      <td>False</td>\n",
       "      <td>False</td>\n",
       "      <td>False</td>\n",
       "      <td>True</td>\n",
       "      <td>False</td>\n",
       "      <td>True</td>\n",
       "      <td>False</td>\n",
       "      <td>2589.285714</td>\n",
       "    </tr>\n",
       "    <tr>\n",
       "      <th>160</th>\n",
       "      <td>2021</td>\n",
       "      <td>29</td>\n",
       "      <td>49</td>\n",
       "      <td>50</td>\n",
       "      <td>43</td>\n",
       "      <td>False</td>\n",
       "      <td>False</td>\n",
       "      <td>True</td>\n",
       "      <td>False</td>\n",
       "      <td>False</td>\n",
       "      <td>True</td>\n",
       "      <td>False</td>\n",
       "      <td>False</td>\n",
       "      <td>True</td>\n",
       "      <td>False</td>\n",
       "      <td>False</td>\n",
       "      <td>4600.000000</td>\n",
       "    </tr>\n",
       "  </tbody>\n",
       "</table>\n",
       "</div>"
      ],
      "text/plain": [
       "     work_year  job_title  employee_residence  remote_ratio  company_location  \\\n",
       "9         2020         33                  41            50                38   \n",
       "556       2022         17                  55           100                48   \n",
       "160       2021         29                  49            50                43   \n",
       "\n",
       "     employment_type_CT  employment_type_FL  employment_type_FT  \\\n",
       "9                 False               False                True   \n",
       "556               False               False                True   \n",
       "160               False               False                True   \n",
       "\n",
       "     employment_type_PT  experience_level_EN  experience_level_EX  \\\n",
       "9                 False                False                False   \n",
       "556               False                False                False   \n",
       "160               False                False                 True   \n",
       "\n",
       "     experience_level_MI  experience_level_SE  company_size_L  company_size_M  \\\n",
       "9                  False                 True           False           False   \n",
       "556                False                 True           False            True   \n",
       "160                False                False            True           False   \n",
       "\n",
       "     company_size_S  residence_salary_ratio  \n",
       "9              True             2976.190476  \n",
       "556           False             2589.285714  \n",
       "160           False             4600.000000  "
      ]
     },
     "execution_count": 31,
     "metadata": {},
     "output_type": "execute_result"
    }
   ],
   "source": [
    "X_train, X_test, y_train, y_test = train_test_split(X,y,test_size=0.2,random_state=42)\n",
    "X_train.head(3)"
   ]
  },
  {
   "cell_type": "code",
   "execution_count": 32,
   "id": "3cbaaed0",
   "metadata": {
    "execution": {
     "iopub.execute_input": "2025-01-11T12:59:19.705013Z",
     "iopub.status.busy": "2025-01-11T12:59:19.704671Z",
     "iopub.status.idle": "2025-01-11T12:59:19.719185Z",
     "shell.execute_reply": "2025-01-11T12:59:19.717986Z"
    },
    "papermill": {
     "duration": 0.03296,
     "end_time": "2025-01-11T12:59:19.720946",
     "exception": false,
     "start_time": "2025-01-11T12:59:19.687986",
     "status": "completed"
    },
    "tags": []
   },
   "outputs": [
    {
     "data": {
      "text/plain": [
       "array([[-2.03678007,  1.09468293,  0.01321597, ..., -1.08539495,\n",
       "         2.49545041, -0.10973559],\n",
       "       [ 0.82913171, -0.41773925,  0.78739353, ...,  0.92132362,\n",
       "        -0.40072926, -0.16469697],\n",
       "       [-0.60382418,  0.71657738,  0.45560315, ..., -1.08539495,\n",
       "        -0.40072926,  0.12093313],\n",
       "       ...,\n",
       "       [-0.60382418, -1.93016142, -1.25864717, ..., -1.08539495,\n",
       "        -0.40072926, -0.1213064 ],\n",
       "       [ 0.82913171, -0.41773925, -1.14805037, ...,  0.92132362,\n",
       "        -0.40072926,  0.13147219],\n",
       "       [-0.60382418,  2.51257872, -1.81163114, ..., -1.08539495,\n",
       "        -0.40072926,  2.42602843]])"
      ]
     },
     "execution_count": 32,
     "metadata": {},
     "output_type": "execute_result"
    }
   ],
   "source": [
    "scaler = StandardScaler()\n",
    "X_train_s = scaler.fit_transform(X_train)\n",
    "X_test_s = scaler.transform(X_test)\n",
    "\n",
    "X_train_s"
   ]
  },
  {
   "cell_type": "code",
   "execution_count": 33,
   "id": "6809b6b8",
   "metadata": {
    "execution": {
     "iopub.execute_input": "2025-01-11T12:59:19.753819Z",
     "iopub.status.busy": "2025-01-11T12:59:19.753460Z",
     "iopub.status.idle": "2025-01-11T12:59:19.782123Z",
     "shell.execute_reply": "2025-01-11T12:59:19.780960Z"
    },
    "papermill": {
     "duration": 0.047017,
     "end_time": "2025-01-11T12:59:19.784018",
     "exception": false,
     "start_time": "2025-01-11T12:59:19.737001",
     "status": "completed"
    },
    "tags": []
   },
   "outputs": [
    {
     "data": {
      "text/plain": [
       "0.4673053215123597"
      ]
     },
     "execution_count": 33,
     "metadata": {},
     "output_type": "execute_result"
    }
   ],
   "source": [
    "lr = LinearRegression()\n",
    "lr.fit(X_train_s,y_train)\n",
    "\n",
    "y_pred = lr.predict(X_test_s)\n",
    "\n",
    "r2 = r2_score(y_test,y_pred)\n",
    "r2"
   ]
  },
  {
   "cell_type": "code",
   "execution_count": 34,
   "id": "7fab5827",
   "metadata": {
    "execution": {
     "iopub.execute_input": "2025-01-11T12:59:19.817576Z",
     "iopub.status.busy": "2025-01-11T12:59:19.817018Z",
     "iopub.status.idle": "2025-01-11T12:59:19.934473Z",
     "shell.execute_reply": "2025-01-11T12:59:19.932215Z"
    },
    "papermill": {
     "duration": 0.136414,
     "end_time": "2025-01-11T12:59:19.936438",
     "exception": false,
     "start_time": "2025-01-11T12:59:19.800024",
     "status": "completed"
    },
    "tags": []
   },
   "outputs": [
    {
     "name": "stdout",
     "output_type": "stream",
     "text": [
      "R2 Score =>  0.9742454622569536\n"
     ]
    }
   ],
   "source": [
    "xgb_model = XGBRegressor()\n",
    "\n",
    "xgb_model.fit(X_train_s,y_train)\n",
    "\n",
    "y_pred_xg = xgb_model.predict(X_test_s)\n",
    "\n",
    "print(\"R2 Score => \",r2_score(y_test,y_pred_xg))"
   ]
  },
  {
   "cell_type": "code",
   "execution_count": 35,
   "id": "1bcdcb22",
   "metadata": {
    "execution": {
     "iopub.execute_input": "2025-01-11T12:59:19.971988Z",
     "iopub.status.busy": "2025-01-11T12:59:19.971499Z",
     "iopub.status.idle": "2025-01-11T12:59:20.076149Z",
     "shell.execute_reply": "2025-01-11T12:59:20.074766Z"
    },
    "papermill": {
     "duration": 0.123231,
     "end_time": "2025-01-11T12:59:20.078049",
     "exception": false,
     "start_time": "2025-01-11T12:59:19.954818",
     "status": "completed"
    },
    "tags": []
   },
   "outputs": [
    {
     "name": "stdout",
     "output_type": "stream",
     "text": [
      "R2 Score =>  0.945251904406906\n"
     ]
    }
   ],
   "source": [
    "lgbm_model = LGBMRegressor(verbose=-1)\n",
    "\n",
    "lgbm_model.fit(X_train_s,y_train)\n",
    "\n",
    "y_pred_lg = lgbm_model.predict(X_test_s)\n",
    "\n",
    "print(\"R2 Score => \",r2_score(y_test,y_pred_lg))"
   ]
  },
  {
   "cell_type": "code",
   "execution_count": 36,
   "id": "a164e36e",
   "metadata": {
    "execution": {
     "iopub.execute_input": "2025-01-11T12:59:20.114517Z",
     "iopub.status.busy": "2025-01-11T12:59:20.114130Z",
     "iopub.status.idle": "2025-01-11T12:59:20.219722Z",
     "shell.execute_reply": "2025-01-11T12:59:20.218701Z"
    },
    "papermill": {
     "duration": 0.124331,
     "end_time": "2025-01-11T12:59:20.221487",
     "exception": false,
     "start_time": "2025-01-11T12:59:20.097156",
     "status": "completed"
    },
    "tags": []
   },
   "outputs": [
    {
     "data": {
      "text/plain": [
       "0.972455509458427"
      ]
     },
     "execution_count": 36,
     "metadata": {},
     "output_type": "execute_result"
    }
   ],
   "source": [
    "from sklearn.ensemble import GradientBoostingRegressor\n",
    "\n",
    "GB = GradientBoostingRegressor()\n",
    "GB.fit(X_train_s,y_train)\n",
    "\n",
    "y_pred_gb = GB.predict(X_test_s)\n",
    "\n",
    "r2_score(y_test,y_pred_gb)"
   ]
  },
  {
   "cell_type": "code",
   "execution_count": 37,
   "id": "03720fea",
   "metadata": {
    "execution": {
     "iopub.execute_input": "2025-01-11T12:59:20.254617Z",
     "iopub.status.busy": "2025-01-11T12:59:20.254233Z",
     "iopub.status.idle": "2025-01-11T12:59:21.169651Z",
     "shell.execute_reply": "2025-01-11T12:59:21.168765Z"
    },
    "papermill": {
     "duration": 0.934138,
     "end_time": "2025-01-11T12:59:21.171652",
     "exception": false,
     "start_time": "2025-01-11T12:59:20.237514",
     "status": "completed"
    },
    "tags": []
   },
   "outputs": [
    {
     "data": {
      "text/plain": [
       "0.9733440067670288"
      ]
     },
     "execution_count": 37,
     "metadata": {},
     "output_type": "execute_result"
    }
   ],
   "source": [
    "from sklearn.ensemble import StackingRegressor\n",
    "\n",
    "# Create base models\n",
    "base_models = [\n",
    "    (\"xgb\", xgb_model),\n",
    "    ('gb',GB)\n",
    "]\n",
    "\n",
    "# Create the stacking regressor\n",
    "stacking_regressor = StackingRegressor(estimators=base_models, final_estimator=LinearRegression())\n",
    "\n",
    "# Fit the stacking regressor to the entire training set\n",
    "stacking_regressor.fit(X_train_s, y_train)\n",
    "\n",
    "# Make predictions on new data\n",
    "y_pred_stacked = stacking_regressor.predict(X_test_s)\n",
    "r2_score(y_test,y_pred_stacked)"
   ]
  },
  {
   "cell_type": "markdown",
   "id": "83c26631",
   "metadata": {
    "papermill": {
     "duration": 0.01544,
     "end_time": "2025-01-11T12:59:21.205292",
     "exception": false,
     "start_time": "2025-01-11T12:59:21.189852",
     "status": "completed"
    },
    "tags": []
   },
   "source": [
    "## Unified Pipeline\n",
    "* Implement all preprocessing, model training, and prediction steps in a single pipeline for efficient and consistent handling of data transformations and predictions. This ensures seamless model evaluation, prediction and deployment."
   ]
  },
  {
   "cell_type": "code",
   "execution_count": 38,
   "id": "a49c975d",
   "metadata": {
    "execution": {
     "iopub.execute_input": "2025-01-11T12:59:21.238179Z",
     "iopub.status.busy": "2025-01-11T12:59:21.237844Z",
     "iopub.status.idle": "2025-01-11T12:59:22.395974Z",
     "shell.execute_reply": "2025-01-11T12:59:22.392986Z"
    },
    "papermill": {
     "duration": 1.177124,
     "end_time": "2025-01-11T12:59:22.398200",
     "exception": false,
     "start_time": "2025-01-11T12:59:21.221076",
     "status": "completed"
    },
    "tags": []
   },
   "outputs": [
    {
     "name": "stdout",
     "output_type": "stream",
     "text": [
      "R-squared Score: 0.9751117984183484\n"
     ]
    }
   ],
   "source": [
    "from sklearn.model_selection import train_test_split\n",
    "from sklearn.compose import ColumnTransformer\n",
    "from sklearn.preprocessing import StandardScaler, OneHotEncoder, LabelEncoder, PowerTransformer\n",
    "from sklearn.ensemble import StackingRegressor, GradientBoostingRegressor\n",
    "from xgboost import XGBRegressor\n",
    "from sklearn.linear_model import LinearRegression\n",
    "from sklearn.pipeline import Pipeline\n",
    "from sklearn.metrics import r2_score\n",
    "import pandas as pd\n",
    "\n",
    "# Prepare Data for ML/DL Models\n",
    "df1 = df.copy()\n",
    "df1.drop(columns=['salary_currency'], inplace=True)\n",
    "\n",
    "# One-hot encoding for employment_type, experience_level, company_size\n",
    "df1 = pd.get_dummies(df1, columns=['employment_type', 'experience_level', 'company_size'])\n",
    "\n",
    "# Label encoding for job_title, employee_residence, company_location\n",
    "le_job_title = LabelEncoder()\n",
    "df1['job_title'] = le_job_title.fit_transform(df1['job_title'])\n",
    "\n",
    "le_employee_residence = LabelEncoder()\n",
    "df1['employee_residence'] = le_employee_residence.fit_transform(df1['employee_residence'])\n",
    "\n",
    "le_company_location = LabelEncoder()\n",
    "df1['company_location'] = le_company_location.fit_transform(df1['company_location'])\n",
    "\n",
    "# Calculate the IQR (Interquartile Range)\n",
    "Q1 = df1['salary_in_usd'].quantile(0.25)\n",
    "Q3 = df1['salary_in_usd'].quantile(0.75)\n",
    "IQR = Q3 - Q1\n",
    "\n",
    "# Filter out the outliers\n",
    "df1 = df1[(df1['salary_in_usd'] >= Q1 - 1.5 * IQR) & \n",
    "                (df1['salary_in_usd'] <= Q3 + 1.5 * IQR)]\n",
    "\n",
    "# Feature engineering: Add 'residence_salary_ratio'\n",
    "df1['residence_salary_ratio'] = df1['salary_in_usd'] / (df1['employee_residence'] + 1)\n",
    "\n",
    "# Define features (X) and target (y)\n",
    "X = df1.drop(columns=['salary_in_usd'])\n",
    "y = df1['salary_in_usd']\n",
    "\n",
    "# Split the dataset into training and testing sets\n",
    "X_train, X_test, y_train, y_test = train_test_split(X, y, test_size=0.2, random_state=42)\n",
    "\n",
    "# Scaling the features\n",
    "scaler = StandardScaler()\n",
    "\n",
    "# Create base models for stacking\n",
    "xgb_model = XGBRegressor(random_state=42)\n",
    "gb_model = GradientBoostingRegressor(random_state=42)\n",
    "lg_model = LGBMRegressor(random_state=42,verbose=-1)\n",
    "\n",
    "# Create the stacking regressor\n",
    "stacking_regressor = StackingRegressor(\n",
    "    estimators=[('xgb', xgb_model), ('gb', gb_model),('lgbm',lg_model)], \n",
    "    final_estimator=LinearRegression()\n",
    ")\n",
    "\n",
    "# Define the full pipeline\n",
    "pipeline = Pipeline([\n",
    "    ('scaler', scaler),  # Scaling step\n",
    "    ('stacking_regressor', stacking_regressor)  # Stacking regressor model\n",
    "])\n",
    "\n",
    "# Fit the model using the entire training set\n",
    "pipeline.fit(X_train, y_train)\n",
    "\n",
    "# Make predictions on the test set\n",
    "y_pred = pipeline.predict(X_test)\n",
    "\n",
    "# Evaluate the model using R-squared\n",
    "r2 = r2_score(y_test, y_pred)\n",
    "print(\"R-squared Score:\", r2)"
   ]
  }
 ],
 "metadata": {
  "kaggle": {
   "accelerator": "none",
   "dataSources": [
    {
     "datasetId": 6463356,
     "sourceId": 10442338,
     "sourceType": "datasetVersion"
    }
   ],
   "dockerImageVersionId": 30822,
   "isGpuEnabled": false,
   "isInternetEnabled": true,
   "language": "python",
   "sourceType": "notebook"
  },
  "kernelspec": {
   "display_name": "Python 3",
   "language": "python",
   "name": "python3"
  },
  "language_info": {
   "codemirror_mode": {
    "name": "ipython",
    "version": 3
   },
   "file_extension": ".py",
   "mimetype": "text/x-python",
   "name": "python",
   "nbconvert_exporter": "python",
   "pygments_lexer": "ipython3",
   "version": "3.10.12"
  },
  "papermill": {
   "default_parameters": {},
   "duration": 14.064688,
   "end_time": "2025-01-11T12:59:23.342727",
   "environment_variables": {},
   "exception": null,
   "input_path": "__notebook__.ipynb",
   "output_path": "__notebook__.ipynb",
   "parameters": {},
   "start_time": "2025-01-11T12:59:09.278039",
   "version": "2.6.0"
  }
 },
 "nbformat": 4,
 "nbformat_minor": 5
}
